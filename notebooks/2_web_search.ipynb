{
 "cells": [
  {
   "cell_type": "markdown",
   "id": "header",
   "metadata": {},
   "source": "# 웹 검색 기반 주식 투자 챗봇\n\n## 학습 목표\n이 노트북에서는 다음 내용을 배웁니다:\n- LangGraph의 조건부 엣지(Conditional Edge) 사용법\n- Tavily 웹 검색 API 활용\n- State 기반 반복 제어 (최대 반복 횟수)\n- Context 누적 및 평가 기반 의사결정\n- Pydantic을 사용한 구조화된 출력\n\n## 주요 개선사항\n- LLM 모델명: gpt-4o-mini\n- 평가 로직: 낮은 점수일 때 웹 검색 수행\n- Context 누적: 기존 검색 결과에 새 결과 추가 (덮어쓰지 않음)\n- 무한 루프 방지: 최대 반복 횟수 제한\n- 에러 처리: 각 노드에서 예외 처리"
  },
  {
   "cell_type": "markdown",
   "id": "ysjrngmhma",
   "source": "## 1. 환경 변수 로드\n\n### 이론\n`.env` 파일에서 API 키를 안전하게 로드합니다.\n- `OPENAI_API_KEY`: OpenAI API 사용을 위한 키\n- `TAVILY_API_KEY`: Tavily 검색 API 사용을 위한 키\n\n### 코드 설명\n- `load_dotenv()`: `.env` 파일에서 환경 변수 읽기",
   "metadata": {}
  },
  {
   "cell_type": "code",
   "id": "initial_id",
   "metadata": {
    "ExecuteTime": {
     "end_time": "2025-10-13T03:16:39.185497Z",
     "start_time": "2025-10-13T03:16:39.178709Z"
    }
   },
   "source": [
    "# 환경 변수 로드\n",
    "from dotenv import load_dotenv\n",
    "\n",
    "load_dotenv()"
   ],
   "outputs": [
    {
     "data": {
      "text/plain": [
       "True"
      ]
     },
     "execution_count": 1,
     "metadata": {},
     "output_type": "execute_result"
    }
   ],
   "execution_count": 1
  },
  {
   "cell_type": "markdown",
   "id": "6tarabpyoam",
   "source": "## 2. LLM 초기화\n\n### 이론\n**Temperature** 파라미터:\n- `temperature=0`: 결정적(deterministic) 출력, 항상 같은 답변\n- 높을수록 창의적이지만 일관성이 떨어짐\n- 평가와 같은 작업에는 0이 적합\n\n### 코드 설명\n- `ChatOpenAI(model=\"gpt-4o-mini\", temperature=0)`: 일관된 답변을 위한 LLM 설정",
   "metadata": {}
  },
  {
   "cell_type": "code",
   "id": "llm_setup",
   "metadata": {
    "ExecuteTime": {
     "end_time": "2025-10-13T03:16:39.837468Z",
     "start_time": "2025-10-13T03:16:39.218479Z"
    }
   },
   "source": [
    "# LLM 초기화 (수정: gpt-4o-mini로 변경)\n",
    "from langchain_openai import ChatOpenAI\n",
    "\n",
    "llm = ChatOpenAI(model=\"gpt-4o-mini\", temperature=0)"
   ],
   "outputs": [],
   "execution_count": 2
  },
  {
   "cell_type": "markdown",
   "id": "tcmiql1nwxo",
   "source": "## 3. AgentState 정의\n\n### 이론\n**확장된 State 구조**:\n이 노트북의 State는 더 복잡합니다:\n- `query`: 사용자 질문 (변하지 않음)\n- `context`: **웹 검색 결과를 누적하는 리스트**\n- `answer`: 생성된 답변\n- `search_threshold`: 검색 트리거 기준 점수 (이 점수 이하면 검색)\n- `iteration_count`: 현재 반복 횟수\n- `max_iterations`: 최대 반복 횟수 (무한 루프 방지)\n- `evaluation_score`: 답변 평가 점수\n- `evaluation_comment`: 평가 코멘트\n- `error`: 에러 메시지\n\n**반복 제어 메커니즘**:\n- `iteration_count`가 `max_iterations`에 도달하면 강제 종료\n- `search_threshold`로 답변 품질 판단\n\n### 코드 설명\n- `TypedDict`: 각 필드에 타입 지정\n- `StateGraph(AgentState)`: 이 State를 사용하는 그래프 생성",
   "metadata": {}
  },
  {
   "cell_type": "code",
   "id": "state_definition",
   "metadata": {
    "ExecuteTime": {
     "end_time": "2025-10-13T03:16:40.926157Z",
     "start_time": "2025-10-13T03:16:40.857084Z"
    }
   },
   "source": [
    "# State 정의 (개선: 메타데이터 추가)\n",
    "from typing_extensions import TypedDict\n",
    "from typing import List, Dict, Any\n",
    "from langgraph.graph import StateGraph\n",
    "\n",
    "\n",
    "class AgentState(TypedDict):\n",
    "    query: str                    # 사용자 질문\n",
    "    context: List[Dict[str, Any]] # 웹 검색 결과 누적 리스트\n",
    "    answer: str                   # 생성된 답변\n",
    "    search_threshold: int         # 웹 검색 트리거 기준 점수 (이하면 검색)\n",
    "    iteration_count: int          # 현재 반복 횟수\n",
    "    max_iterations: int           # 최대 반복 횟수\n",
    "    evaluation_score: int         # 마지막 평가 점수\n",
    "    evaluation_comment: str       # 평가 코멘트\n",
    "    error: str                    # 에러 메시지\n",
    "\n",
    "\n",
    "graph_builder = StateGraph(AgentState)"
   ],
   "outputs": [],
   "execution_count": 3
  },
  {
   "cell_type": "markdown",
   "id": "0gccibgq6og",
   "source": "## 4. Generate 노드 (답변 생성)\n\n### 이론\n**두 가지 프롬프트 전략**:\n1. `context_prompt`: 웹 검색 결과가 있을 때\n   - 검색 자료를 활용하여 구체적인 답변 생성\n   - 출처 명시, 수치와 날짜 포함\n2. `simple_prompt`: 검색 결과가 없을 때\n   - 일반 지식으로 답변\n   - 실시간 데이터가 필요함을 명시\n\n**Pydantic 구조화된 출력**:\n- `AnswerOutput` 클래스로 답변 구조 정의\n- `answer`, `confidence`, `sources_used` 필드\n- 현재는 사용하지 않지만 확장 가능성 제공\n\n### 코드 설명\n- `state.get(\"context\", [])`: context가 없으면 빈 리스트 반환\n- `if context and len(context) > 0`: context 유무에 따라 다른 프롬프트 사용\n- `formatted_context`: 검색 결과를 읽기 좋게 포맷팅\n- `chain = prompt | llm | StrOutputParser()`: LCEL (LangChain Expression Language) 체인\n- `return {\"answer\": response, \"iteration_count\": iteration + 1}`: 답변 저장 및 반복 횟수 증가\n- `try-except`: 에러 발생 시 에러 메시지 저장",
   "metadata": {}
  },
  {
   "cell_type": "code",
   "id": "generate_node",
   "metadata": {
    "ExecuteTime": {
     "end_time": "2025-10-13T03:16:42.441885Z",
     "start_time": "2025-10-13T03:16:42.427141Z"
    }
   },
   "source": [
    "# Generate 노드 (개선: 구조화된 출력, 에러 처리)\n",
    "from langchain_core.output_parsers import StrOutputParser\n",
    "from langchain_core.prompts import PromptTemplate\n",
    "from pydantic import BaseModel, Field\n",
    "\n",
    "\n",
    "class AnswerOutput(BaseModel):\n",
    "    \"\"\"구조화된 답변 출력\"\"\"\n",
    "    answer: str = Field(description=\"사용자 질문에 대한 상세한 답변\")\n",
    "    confidence: str = Field(description=\"답변 신뢰도: high/medium/low\")\n",
    "    sources_used: bool = Field(description=\"웹 검색 결과를 사용했는지 여부\")\n",
    "\n",
    "\n",
    "# Context가 있을 때 사용하는 프롬프트\n",
    "context_prompt = PromptTemplate.from_template(\"\"\"\n",
    "당신은 주식 투자 전문가입니다. 주어진 웹 검색 자료(context)에 기반하여 질문(question)에 대한 답을 제공하세요.\n",
    "\n",
    "검색 자료:\n",
    "{context}\n",
    "\n",
    "질문: {query}\n",
    "\n",
    "답변 작성 지침:\n",
    "1. 검색 자료의 정보를 정확히 인용하세요\n",
    "2. 구체적인 수치와 날짜를 포함하세요\n",
    "3. 출처가 명확하지 않은 추측은 피하세요\n",
    "4. 간결하고 명확하게 작성하세요\n",
    "\"\"\")\n",
    "\n",
    "# Context가 없을 때 사용하는 프롬프트\n",
    "simple_prompt = PromptTemplate.from_template(\"\"\"\n",
    "당신은 주식 투자 전문가입니다. 다음 질문에 답변하세요.\n",
    "\n",
    "질문: {query}\n",
    "\n",
    "답변 작성 지침:\n",
    "1. 일반적인 투자 원칙과 지식을 바탕으로 답변하세요\n",
    "2. 실시간 데이터가 필요한 경우 그 점을 명시하세요\n",
    "3. 간결하고 명확하게 작성하세요\n",
    "\"\"\")\n",
    "\n",
    "\n",
    "def generate(state: AgentState) -> AgentState:\n",
    "    \"\"\"\n",
    "    답변을 생성하는 노드\n",
    "    - Context가 있으면 이를 활용하여 답변 생성\n",
    "    - Context가 없으면 일반 지식으로 답변\n",
    "    - 에러 발생 시 에러 메시지 저장\n",
    "    \"\"\"\n",
    "    try:\n",
    "        query = state[\"query\"]\n",
    "        context = state.get(\"context\", [])\n",
    "        iteration = state.get(\"iteration_count\", 0)\n",
    "        \n",
    "        print(f\"\\n{'='*50}\")\n",
    "        print(f\"[Generate] Iteration {iteration + 1}\")\n",
    "        print(f\"Context 개수: {len(context)}\")\n",
    "        \n",
    "        if context and len(context) > 0:\n",
    "            # Context를 보기 좋게 포맷팅\n",
    "            formatted_context = \"\\n\\n\".join([\n",
    "                f\"[출처 {i+1}]\\n제목: {item.get('title', 'N/A')}\\n내용: {item.get('content', item.get('raw_content', 'N/A')[:500])}\\nURL: {item.get('url', 'N/A')}\"\n",
    "                for i, item in enumerate(context)\n",
    "            ])\n",
    "            \n",
    "            chain = context_prompt | llm | StrOutputParser()\n",
    "            response = chain.invoke({\"context\": formatted_context, \"query\": query})\n",
    "            return {\n",
    "                \"answer\": response,\n",
    "                \"iteration_count\": iteration + 1\n",
    "            }\n",
    "        else:\n",
    "            chain = simple_prompt | llm | StrOutputParser()\n",
    "            response = chain.invoke({\"query\": query})\n",
    "            return {\n",
    "                \"answer\": response,\n",
    "                \"iteration_count\": iteration + 1\n",
    "            }\n",
    "            \n",
    "    except Exception as e:\n",
    "        error_msg = f\"Generate 함수 에러: {str(e)}\"\n",
    "        print(f\"❌ {error_msg}\")\n",
    "        return {\n",
    "            \"error\": error_msg,\n",
    "            \"answer\": \"답변 생성 중 오류가 발생했습니다.\"\n",
    "        }"
   ],
   "outputs": [],
   "execution_count": 4
  },
  {
   "cell_type": "markdown",
   "id": "drt6uby4vr",
   "source": "## 5. QA 평가 노드\n\n### 이론\n**평가 기준 (20점 만점)**:\n1. 정확성 (0-5점): 답변이 질문에 정확히 답하는가?\n2. 완전성 (0-5점): 답변이 충분히 상세한가?\n3. 명확성 (0-5점): 답변이 이해하기 쉬운가?\n4. 관련성 (0-5점): 답변이 질문과 관련이 있는가?\n\n**조건부 라우팅**:\n- `'enough'`: 점수 >= threshold이고 추가 정보 불필요 → 종료\n- `'search'`: 점수 < threshold이거나 추가 정보 필요 → 웹 검색\n- `'max_reached'`: 최대 반복 횟수 도달 → 강제 종료\n\n**Pydantic Structured Output**:\n- `EvaledAnswer` 클래스로 평가 결과 구조화\n- `score`, `comment`, `needs_more_info` 필드\n- `with_structured_output()`: LLM이 이 구조로 응답하도록 강제\n\n### 코드 설명\n- `Literal['enough', 'search', 'max_reached']`: 반환 가능한 값 제한\n- `structured_qa_eval_llm = ChatOpenAI(...).with_structured_output(EvaledAnswer)`: 구조화된 출력 LLM\n- `if state.get(\"error\")`: 에러가 있으면 즉시 종료\n- `if iteration >= max_iterations`: 최대 반복 도달 체크\n- `if score >= search_threshold and not needs_more_info`: 충분한 답변 판단\n- `return 'search'`: 점수 낮거나 추가 정보 필요 시 검색",
   "metadata": {}
  },
  {
   "cell_type": "code",
   "id": "qa_eval_node",
   "metadata": {
    "ExecuteTime": {
     "end_time": "2025-10-13T03:16:43.642474Z",
     "start_time": "2025-10-13T03:16:43.633237Z"
    }
   },
   "source": [
    "# QA 평가 노드 (개선: 로직 수정 - 낮은 점수일 때 검색)\n",
    "from typing import Literal\n",
    "\n",
    "\n",
    "class EvaledAnswer(BaseModel):\n",
    "    \"\"\"답변 평가 결과\"\"\"\n",
    "    score: int = Field(..., ge=0, le=20, description=\"각 기준별 점수를 합한 합산 점수 (0-20)\")\n",
    "    comment: str = Field(description=\"평가기준에 따른 상세 코멘트\")\n",
    "    needs_more_info: bool = Field(description=\"더 많은 정보가 필요한지 여부\")\n",
    "\n",
    "\n",
    "qa_eval_prompt = PromptTemplate(\n",
    "    input_variables=[\"question\", \"answer\"],\n",
    "    template=\"\"\"\n",
    "다음 질문과 답변을 평가해주세요:\n",
    "\n",
    "질문: {question}\n",
    "답변: {answer}\n",
    "\n",
    "평가 기준 (각 0-5점, 총 20점):\n",
    "1. 정확성 (0-5점): 답변이 질문에 정확히 답하고 있는가?\n",
    "2. 완전성 (0-5점): 답변이 충분히 상세하고 완전한가?\n",
    "3. 명확성 (0-5점): 답변이 이해하기 쉽고 명확한가?\n",
    "4. 관련성 (0-5점): 답변이 질문과 관련이 있는가?\n",
    "\n",
    "평가 시 고려사항:\n",
    "- 구체적인 수치, 날짜, 출처가 포함되어 있는가?\n",
    "- \"인터넷 검색이 필요하다\", \"확인할 수 없다\" 등의 답변은 낮은 점수\n",
    "- 실시간 주가, 최신 뉴스 등이 필요한 경우 needs_more_info를 true로 설정\n",
    "\n",
    "각 기준에 대해 점수를 매기고, 평가 기준별 점수를 모두 더한 합산 점수(0-20)와 개선사항을 제시하세요.\n",
    "\"\"\"  \n",
    ")\n",
    "\n",
    "structured_qa_eval_llm = ChatOpenAI(model=\"gpt-4o-mini\", temperature=0).with_structured_output(EvaledAnswer)\n",
    "\n",
    "\n",
    "def qa_eval(state: AgentState) -> Literal['enough', 'search', 'max_reached']:\n",
    "    \"\"\"\n",
    "    답변 품질을 평가하는 노드\n",
    "    \n",
    "    로직 개선:\n",
    "    - 점수가 threshold 이상이면 'enough' (종료)\n",
    "    - 점수가 threshold 미만이면 'search' (웹 검색)\n",
    "    - max_iterations 도달하면 'max_reached' (강제 종료)\n",
    "    \"\"\"\n",
    "    try:\n",
    "        answer = state[\"answer\"]\n",
    "        query = state[\"query\"]\n",
    "        iteration = state.get(\"iteration_count\", 0)\n",
    "        search_threshold = state.get(\"search_threshold\", 15)\n",
    "        max_iterations = state.get(\"max_iterations\", 3)\n",
    "        \n",
    "        # 에러가 있으면 즉시 종료\n",
    "        if state.get(\"error\"):\n",
    "            return 'max_reached'\n",
    "        \n",
    "        eval_chain = qa_eval_prompt | structured_qa_eval_llm\n",
    "        response = eval_chain.invoke({\"answer\": answer, \"question\": query})\n",
    "        \n",
    "        score = response.score\n",
    "        comment = response.comment\n",
    "        needs_more_info = response.needs_more_info\n",
    "        \n",
    "        print(f\"\\n[QA Eval] Iteration {iteration}\")\n",
    "        print(f\"평가 점수: {score}/20\")\n",
    "        print(f\"코멘트: {comment}\")\n",
    "        print(f\"추가 정보 필요: {needs_more_info}\")\n",
    "        \n",
    "        # State 업데이트\n",
    "        state[\"evaluation_score\"] = score\n",
    "        state[\"evaluation_comment\"] = comment\n",
    "        \n",
    "        # 최대 반복 횟수 도달 체크\n",
    "        if iteration >= max_iterations:\n",
    "            print(f\"⚠️ 최대 반복 횟수({max_iterations}) 도달. 종료합니다.\")\n",
    "            return 'max_reached'\n",
    "        \n",
    "        # 점수가 threshold 이상이고 추가 정보 불필요하면 종료\n",
    "        if score >= search_threshold and not needs_more_info:\n",
    "            print(f\"✅ 점수가 threshold({search_threshold}) 이상입니다. 종료합니다.\")\n",
    "            return 'enough'\n",
    "        \n",
    "        # 점수가 낮거나 추가 정보 필요하면 웹 검색\n",
    "        print(f\"🔍 점수가 낮거나 추가 정보가 필요합니다. 웹 검색을 실행합니다.\")\n",
    "        return 'search'\n",
    "        \n",
    "    except Exception as e:\n",
    "        error_msg = f\"QA Eval 함수 에러: {str(e)}\"\n",
    "        print(f\"❌ {error_msg}\")\n",
    "        state[\"error\"] = error_msg\n",
    "        return 'max_reached'"
   ],
   "outputs": [],
   "execution_count": 5
  },
  {
   "cell_type": "markdown",
   "id": "pvw1yk82y8o",
   "source": "## 6. 웹 검색 노드\n\n### 이론\n**Tavily Search API**:\n- 실시간 웹 검색 엔진\n- `max_results=3`: 최대 3개 결과\n- `search_depth=\"advanced\"`: 고급 검색 (더 깊은 분석)\n- `include_answer=True`: Tavily가 생성한 요약 답변 포함\n- `include_raw_content=True`: 원본 콘텐츠 포함\n- `include_images=False`: 이미지 제외 (토큰 절약)\n\n**Context 누적 전략**:\n- 기존 검색 결과를 **덮어쓰지 않고** 새 결과를 **추가**\n- 중복 URL 제거로 동일한 출처 방지\n- 반복마다 더 많은 정보 축적\n\n### 코드 설명\n- `TavilySearch(...)`: Tavily 검색 도구 초기화\n- `existing_context = state.get(\"context\", [])`: 기존 context 가져오기\n- `results = tavily_search_tool.invoke(query)`: 웹 검색 실행\n- `existing_urls = {item.get('url') for item in existing_context}`: 기존 URL 세트\n- `new_results = [result for result in results if result.get('url') not in existing_urls]`: 중복 제거\n- `updated_context = existing_context + new_results`: **누적** (덮어쓰기 X)\n- `return {\"context\": updated_context}`: 업데이트된 context 반환",
   "metadata": {}
  },
  {
   "cell_type": "code",
   "id": "web_search_node",
   "metadata": {
    "ExecuteTime": {
     "end_time": "2025-10-13T03:16:44.891519Z",
     "start_time": "2025-10-13T03:16:44.698959Z"
    }
   },
   "source": "# Web Search 노드 (개선: Context 누적, 에러 처리)\nfrom langchain_tavily import TavilySearch\n\ntavily_search_tool = TavilySearch(\n    max_results=3,\n    search_depth=\"advanced\",\n    include_answer=True,\n    include_raw_content=True,\n    include_images=False  # 이미지는 제외하여 토큰 절약\n)\n\n\ndef web_search(state: AgentState) -> AgentState:\n    \"\"\"\n    웹 검색을 수행하는 노드\n    \n    개선:\n    - Context를 누적하여 저장 (덮어쓰기 X)\n    - 중복 URL 제거\n    - 에러 처리\n    \"\"\"\n    try:\n        query = state[\"query\"]\n        existing_context = state.get(\"context\", [])\n        iteration = state.get(\"iteration_count\", 0)\n        \n        print(f\"\\n[Web Search] 검색 쿼리: {query}\")\n        \n        # 웹 검색 실행\n        results = tavily_search_tool.invoke(query)\n        \n        if not results:\n            print(\"⚠️ 검색 결과가 없습니다.\")\n            return {\"error\": \"검색 결과가 없습니다.\"}\n        \n        print(f\"✅ 검색 결과 {len(results)}개 발견\")\n        \n        # 기존 URL 추출\n        existing_urls = {item.get('url') for item in existing_context if item.get('url')}\n        \n        # 새로운 결과만 추가 (중복 제거)\n        new_results = [\n            result for result in results \n            if result.get('url') not in existing_urls\n        ]\n        \n        # Context 누적\n        updated_context = existing_context + new_results\n        \n        print(f\"새로운 검색 결과: {len(new_results)}개\")\n        print(f\"총 Context: {len(updated_context)}개\")\n        \n        # 출처 출력\n        for i, result in enumerate(new_results):\n            print(f\"  [{i+1}] {result.get('title', 'N/A')[:50]}...\")\n            print(f\"      {result.get('url', 'N/A')}\")\n        \n        return {\"context\": updated_context}\n        \n    except Exception as e:\n        error_msg = f\"Web Search 함수 에러: {str(e)}\"\n        print(f\"❌ {error_msg}\")\n        return {\"error\": error_msg}",
   "outputs": [],
   "execution_count": null
  },
  {
   "cell_type": "markdown",
   "id": "25863pwz6gu",
   "source": "## 7. 그래프 구성\n\n### 이론\n**조건부 엣지 (Conditional Edge)**:\n- `add_conditional_edges(source, condition_func, edge_mapping)`\n- `condition_func`의 반환값에 따라 다음 노드 결정\n- 이 예제에서는 `qa_eval` 함수가 조건 판단\n\n**실행 흐름**:\n```\nSTART → generate → [qa_eval]\n           ├─ 'enough' → END (충분한 답변, 종료)\n           ├─ 'search' → web_search → generate (웹 검색 후 재생성)\n           └─ 'max_reached' → END (최대 반복 도달, 강제 종료)\n```\n\n**순환 구조**:\n- `generate → qa_eval → web_search → generate`\n- 답변 품질이 만족스러울 때까지 반복\n- `max_iterations`로 무한 루프 방지\n\n### 코드 설명\n- `add_node(\"generate\", generate)`: generate 노드 추가\n- `add_node(\"web_search\", web_search)`: web_search 노드 추가\n- `add_edge(START, \"generate\")`: 시작하면 generate 실행\n- `add_conditional_edges('generate', qa_eval, {...})`: generate 후 조건부 라우팅\n  - `qa_eval` 함수의 반환값('enough', 'search', 'max_reached')에 따라 다음 노드 결정\n- `add_edge(\"web_search\", \"generate\")`: 웹 검색 후 다시 generate\n- `compile()`: 그래프 컴파일",
   "metadata": {}
  },
  {
   "cell_type": "code",
   "id": "build_graph",
   "metadata": {
    "ExecuteTime": {
     "end_time": "2025-10-13T03:16:51.560312Z",
     "start_time": "2025-10-13T03:16:51.551531Z"
    }
   },
   "source": [
    "# 그래프 구성\n",
    "from langgraph.graph import START, END\n",
    "\n",
    "# 노드 추가\n",
    "graph_builder.add_node(\"generate\", generate)\n",
    "graph_builder.add_node(\"web_search\", web_search)\n",
    "\n",
    "# 엣지 추가\n",
    "graph_builder.add_edge(START, \"generate\")\n",
    "\n",
    "# 조건부 엣지: generate → qa_eval → enough/search/max_reached\n",
    "graph_builder.add_conditional_edges(\n",
    "    'generate',\n",
    "    qa_eval,\n",
    "    {\n",
    "        'enough': END,           # 충분한 답변 → 종료\n",
    "        'search': 'web_search',  # 검색 필요 → 웹 검색\n",
    "        'max_reached': END       # 최대 반복 도달 → 종료\n",
    "    }\n",
    ")\n",
    "\n",
    "# 웹 검색 → 다시 답변 생성\n",
    "graph_builder.add_edge(\"web_search\", \"generate\")\n",
    "\n",
    "# 그래프 컴파일\n",
    "graph = graph_builder.compile()"
   ],
   "outputs": [],
   "execution_count": 7
  },
  {
   "cell_type": "markdown",
   "id": "a9nag4f6yhw",
   "source": "## 8. 그래프 시각화\n\n### 코드 설명\n- `get_graph().draw_mermaid_png()`: Mermaid 다이어그램으로 그래프 시각화\n- 조건부 엣지의 분기점을 시각적으로 확인 가능\n- 에러 발생 시 텍스트로 구조 출력",
   "metadata": {}
  },
  {
   "cell_type": "code",
   "id": "visualize",
   "metadata": {
    "ExecuteTime": {
     "end_time": "2025-10-13T03:16:53.462845Z",
     "start_time": "2025-10-13T03:16:52.480859Z"
    }
   },
   "source": [
    "# 그래프 시각화\n",
    "from IPython.display import display, Image\n",
    "\n",
    "try:\n",
    "    display(Image(graph.get_graph().draw_mermaid_png()))\n",
    "except Exception as e:\n",
    "    print(f\"그래프 시각화 실패: {e}\")\n",
    "    print(\"텍스트로 그래프 구조 출력:\")\n",
    "    print(\"START → generate → [qa_eval]\")\n",
    "    print(\"  ├─ enough → END\")\n",
    "    print(\"  ├─ search → web_search → generate\")\n",
    "    print(\"  └─ max_reached → END\")"
   ],
   "outputs": [
    {
     "data": {
      "image/png": "[encoded data removed]",
      "text/plain": [
       "<IPython.core.display.Image object>"
      ]
     },
     "metadata": {},
     "output_type": "display_data",
     "jetTransient": {
      "display_id": null
     }
    }
   ],
   "execution_count": 8
  },
  {
   "cell_type": "markdown",
   "id": "kzh1esayaxq",
   "source": "## 9. 실행 테스트 (실시간 주가 질문)\n\n### 이론\n**실시간 데이터가 필요한 질문**:\n- \"현재 주가\", \"최근 동향\" 등은 웹 검색이 필수\n- 첫 번째 답변은 낮은 점수를 받을 가능성이 높음\n- 웹 검색 후 구체적인 수치와 출처가 포함된 답변 생성\n\n**스트림 모드**:\n- `graph.stream(state, stream_mode=\"updates\")`: 각 노드의 업데이트를 실시간으로 받음\n- 진행 상황을 print문으로 확인 가능\n\n### 코드 설명\n- `initial_state`: 초기 상태 정의\n  - `query`: 실시간 주가 질문\n  - `search_threshold=15`: 15점 이상이면 충분\n  - `max_iterations=3`: 최대 3번 반복\n- `for update in graph.stream(...)`: 스트림 모드로 실행\n- `final_result = graph.invoke(initial_state)`: 최종 결과 실행\n- 결과에서 반복 횟수, 평가 점수, 최종 답변 확인",
   "metadata": {}
  },
  {
   "cell_type": "code",
   "id": "run_test",
   "metadata": {
    "ExecuteTime": {
     "end_time": "2025-10-13T03:17:32.063578Z",
     "start_time": "2025-10-13T03:16:54.986760Z"
    }
   },
   "source": [
    "# 실행 테스트\n",
    "from pprint import pprint\n",
    "\n",
    "initial_state = {\n",
    "    'query': '2025년 10월 삼성전자 주식의 현재 주가와 최근 동향을 알려줘',\n",
    "    'search_threshold': 15,      # 15점 이상이면 충분\n",
    "    'iteration_count': 0,\n",
    "    'max_iterations': 3,         # 최대 3번 반복\n",
    "    'context': [],\n",
    "    'answer': '',\n",
    "    'evaluation_score': 0,\n",
    "    'evaluation_comment': '',\n",
    "    'error': ''\n",
    "}\n",
    "\n",
    "print(\"=\"*70)\n",
    "print(\"주식 투자 챗봇 - 웹 검색 기반 답변 생성\")\n",
    "print(\"=\"*70)\n",
    "print(f\"질문: {initial_state['query']}\")\n",
    "print(f\"검색 threshold: {initial_state['search_threshold']}점\")\n",
    "print(f\"최대 반복: {initial_state['max_iterations']}회\")\n",
    "print(\"=\"*70)\n",
    "\n",
    "# 스트림 모드로 실행\n",
    "for update in graph.stream(initial_state, stream_mode=\"updates\"):\n",
    "    pass  # 각 노드의 print문으로 진행상황 출력\n",
    "\n",
    "# 최종 결과 실행\n",
    "final_result = graph.invoke(initial_state)\n",
    "\n",
    "print(\"\\n\" + \"=\"*70)\n",
    "print(\"최종 결과\")\n",
    "print(\"=\"*70)\n",
    "print(f\"\\n총 반복 횟수: {final_result.get('iteration_count', 0)}\")\n",
    "print(f\"최종 평가 점수: {final_result.get('evaluation_score', 0)}/20\")\n",
    "print(f\"평가 코멘트: {final_result.get('evaluation_comment', 'N/A')}\")\n",
    "print(f\"사용된 검색 결과: {len(final_result.get('context', []))}개\")\n",
    "if final_result.get('error'):\n",
    "    print(f\"❌ 에러: {final_result['error']}\")\n",
    "\n",
    "print(f\"\\n{'='*70}\")\n",
    "print(\"최종 답변:\")\n",
    "print(\"=\"*70)\n",
    "print(final_result.get('answer', 'N/A'))\n",
    "print(\"=\"*70)"
   ],
   "outputs": [
    {
     "name": "stdout",
     "output_type": "stream",
     "text": [
      "======================================================================\n",
      "주식 투자 챗봇 - 웹 검색 기반 답변 생성\n",
      "======================================================================\n",
      "질문: 2025년 10월 삼성전자 주식의 현재 주가와 최근 동향을 알려줘\n",
      "검색 threshold: 15점\n",
      "최대 반복: 3회\n",
      "======================================================================\n",
      "\n",
      "==================================================\n",
      "[Generate] Iteration 1\n",
      "Context 개수: 0\n",
      "\n",
      "[QA Eval] Iteration 1\n",
      "평가 점수: 12/20\n",
      "코멘트: 답변은 질문에 대한 직접적인 주가 정보는 제공하지 않지만, 주식 시장의 변동성과 삼성전자의 시장 위치에 대한 일반적인 정보를 포함하고 있습니다. 그러나 구체적인 수치나 실시간 데이터가 없기 때문에 정확성과 완전성에서 점수가 낮습니다. 또한, 명확성과 관련성은 양호하지만, 질문에 대한 직접적인 답변이 부족하여 전체 점수가 낮아졌습니다.\n",
      "추가 정보 필요: True\n",
      "🔍 점수가 낮거나 추가 정보가 필요합니다. 웹 검색을 실행합니다.\n",
      "\n",
      "[Web Search] 검색 쿼리: 2025년 10월 삼성전자 주식의 현재 주가와 최근 동향을 알려줘\n",
      "✅ 검색 결과 3개 발견\n",
      "새로운 검색 결과: 3개\n",
      "총 Context: 3개\n",
      "  [1] 삼성전자 (005930) - 인베스팅닷컴...\n",
      "      https://kr.investing.com/equities/samsung-electronics-co-ltd\n",
      "  [2] 삼성 전자 주가 전망: 2025년, 2026년 - 경제 예측 기관...\n",
      "      https://wonforecast.com/samsung-electronics\n",
      "  [3] '9만전자' 맛본 삼성전자...증권가에선 '12만전자' 예상까지 ......\n",
      "      https://www.mk.co.kr/news/business/11436809\n",
      "\n",
      "==================================================\n",
      "[Generate] Iteration 2\n",
      "Context 개수: 3\n",
      "\n",
      "[QA Eval] Iteration 2\n",
      "평가 점수: 18/20\n",
      "코멘트: 답변은 질문에 대해 매우 정확하고 상세하게 정보를 제공하고 있습니다. 주가, 거래 범위, 52주 범위, 영업이익 컨센서스 등 구체적인 수치가 포함되어 있어 완전성 또한 높습니다. 명확하게 정리되어 있어 이해하기 쉽고, 관련된 정보도 잘 연결되어 있습니다. 다만, 2025년 10월의 주가와 동향을 다루고 있으므로, 현재 시점에서의 정보가 아닌 미래의 예측에 대한 언급이 필요할 수 있습니다. 따라서, 실시간 주가와 최신 뉴스에 대한 정보가 필요할 경우 needs_more_info를 true로 설정하는 것이 좋습니다.\n",
      "추가 정보 필요: False\n",
      "✅ 점수가 threshold(15) 이상입니다. 종료합니다.\n",
      "\n",
      "==================================================\n",
      "[Generate] Iteration 1\n",
      "Context 개수: 0\n",
      "\n",
      "[QA Eval] Iteration 1\n",
      "평가 점수: 12/20\n",
      "코멘트: 답변은 질문에 대한 직접적인 주가 정보는 제공하지 않지만, 주식 시장의 변동성과 삼성전자의 시장 위치에 대한 일반적인 정보를 포함하고 있습니다. 그러나 구체적인 수치나 실시간 데이터가 없기 때문에 정확성과 완전성에서 낮은 점수를 받았습니다. 또한, 주가에 영향을 미치는 요소들을 언급하여 관련성을 높였지만, 명확성에서는 다소 부족함이 있었습니다. 전반적으로 유용한 정보는 제공되었으나, 질문에 대한 직접적인 답변이 부족하여 점수가 낮았습니다.\n",
      "추가 정보 필요: True\n",
      "🔍 점수가 낮거나 추가 정보가 필요합니다. 웹 검색을 실행합니다.\n",
      "\n",
      "[Web Search] 검색 쿼리: 2025년 10월 삼성전자 주식의 현재 주가와 최근 동향을 알려줘\n",
      "✅ 검색 결과 3개 발견\n",
      "새로운 검색 결과: 3개\n",
      "총 Context: 3개\n",
      "  [1] 삼성전자 (005930) - 인베스팅닷컴...\n",
      "      https://kr.investing.com/equities/samsung-electronics-co-ltd\n",
      "  [2] 삼성 전자 주가 전망: 2025년, 2026년 - 경제 예측 기관...\n",
      "      https://wonforecast.com/samsung-electronics\n",
      "  [3] '9만전자' 맛본 삼성전자...증권가에선 '12만전자' 예상까지 ......\n",
      "      https://www.mk.co.kr/news/business/11436809\n",
      "\n",
      "==================================================\n",
      "[Generate] Iteration 2\n",
      "Context 개수: 3\n",
      "\n",
      "[QA Eval] Iteration 2\n",
      "평가 점수: 18/20\n",
      "코멘트: 답변은 질문에 대해 매우 정확하고 상세하게 정보를 제공하고 있습니다. 주가, 거래 범위, 영업이익 컨센서스, 목표주가 등 구체적인 수치와 출처를 포함하고 있어 신뢰성이 높습니다. 다만, 2025년 10월의 주가를 예측하는 것은 불확실성이 크기 때문에, 현재 주가에 대한 정보가 아닌 예측으로 간주될 수 있습니다. 이 점에서 약간의 개선이 필요합니다.\n",
      "추가 정보 필요: False\n",
      "✅ 점수가 threshold(15) 이상입니다. 종료합니다.\n",
      "\n",
      "======================================================================\n",
      "최종 결과\n",
      "======================================================================\n",
      "\n",
      "총 반복 횟수: 2\n",
      "최종 평가 점수: 0/20\n",
      "평가 코멘트: \n",
      "사용된 검색 결과: 3개\n",
      "\n",
      "======================================================================\n",
      "최종 답변:\n",
      "======================================================================\n",
      "2025년 10월 7일 기준으로 삼성전자(005930)의 현재 주가는 89,000원입니다. 이전 종가는 86,000원이었으며, 일간 거래 범위는 88,700원에서 90,300원 사이입니다. 52주 동안의 주가는 49,900원에서 90,300원까지 변동했습니다.\n",
      "\n",
      "최근 삼성전자의 영업이익 컨센서스는 9조7113억원으로 집계되었으며, 이는 한 달 전보다 크게 증가한 수치입니다. 증권사들은 삼성전자의 목표주가를 상향 조정하고 있으며, 장기 실적 개선에 대한 기대감이 커지고 있습니다. 현재 12개월 목표주가는 평균 94,073원으로, 최고치는 125,000원, 최저치는 58,500원입니다. 전체적인 투자의견은 매수로 평가되고 있습니다.\n",
      "\n",
      "출처: [인베스팅닷컴](https://kr.investing.com/equities/samsung-electronics-co-ltd), [매일경제](https://www.mk.co.kr/news/business/11436809)\n",
      "======================================================================\n"
     ]
    }
   ],
   "execution_count": 9
  },
  {
   "cell_type": "markdown",
   "id": "fmabnsiusps",
   "source": "## 10. 일반 지식 질문 테스트\n\n### 이론\n**일반적인 투자 지식 질문**:\n- \"분산 투자의 중요성\" 같은 질문은 웹 검색 없이도 답변 가능\n- LLM의 일반 지식으로 높은 점수를 받을 수 있음\n- 하지만 평가 함수가 `needs_more_info=True`를 반환하면 웹 검색 수행\n\n**동적 동작**:\n- 같은 그래프가 질문에 따라 다르게 동작\n- 실시간 데이터 필요 → 웹 검색\n- 일반 지식 → 바로 답변\n\n### 코드 설명\n- `simple_state`: 일반 지식 질문\n- `graph.invoke(simple_state)`: 그래프 실행\n- 반복 횟수와 평가 점수로 동작 확인",
   "metadata": {}
  },
  {
   "cell_type": "code",
   "id": "test_without_search",
   "metadata": {
    "ExecuteTime": {
     "end_time": "2025-10-13T03:18:27.676964Z",
     "start_time": "2025-10-13T03:17:54.988254Z"
    }
   },
   "source": [
    "# 웹 검색 없이도 답변 가능한 질문 테스트\n",
    "simple_state = {\n",
    "    'query': '주식 투자 시 분산 투자의 중요성에 대해 설명해줘',\n",
    "    'search_threshold': 15,\n",
    "    'iteration_count': 0,\n",
    "    'max_iterations': 3,\n",
    "    'context': [],\n",
    "    'answer': '',\n",
    "    'evaluation_score': 0,\n",
    "    'evaluation_comment': '',\n",
    "    'error': ''\n",
    "}\n",
    "\n",
    "print(\"\\n\" + \"=\"*70)\n",
    "print(\"일반 투자 지식 질문 테스트 (웹 검색 불필요)\")\n",
    "print(\"=\"*70)\n",
    "\n",
    "simple_result = graph.invoke(simple_state)\n",
    "\n",
    "print(f\"\\n최종 평가 점수: {simple_result.get('evaluation_score', 0)}/20\")\n",
    "print(f\"반복 횟수: {simple_result.get('iteration_count', 0)}\")\n",
    "print(f\"\\n답변:\\n{simple_result.get('answer', 'N/A')}\")"
   ],
   "outputs": [
    {
     "name": "stdout",
     "output_type": "stream",
     "text": [
      "\n",
      "======================================================================\n",
      "일반 투자 지식 질문 테스트 (웹 검색 불필요)\n",
      "======================================================================\n",
      "\n",
      "==================================================\n",
      "[Generate] Iteration 1\n",
      "Context 개수: 0\n",
      "\n",
      "[QA Eval] Iteration 1\n",
      "평가 점수: 18/20\n",
      "코멘트: 답변은 분산 투자의 중요성을 잘 설명하고 있으며, 각 포인트가 명확하게 제시되어 있습니다. 그러나 구체적인 예시나 수치가 부족하여 완전성에서 약간의 점수를 잃었습니다. 또한, 실시간 데이터나 최신 시장 상황에 대한 언급이 없어서 더 나은 이해를 위해 추가 정보가 필요할 수 있습니다.\n",
      "추가 정보 필요: True\n",
      "🔍 점수가 낮거나 추가 정보가 필요합니다. 웹 검색을 실행합니다.\n",
      "\n",
      "[Web Search] 검색 쿼리: 주식 투자 시 분산 투자의 중요성에 대해 설명해줘\n",
      "✅ 검색 결과 3개 발견\n",
      "새로운 검색 결과: 3개\n",
      "총 Context: 3개\n",
      "  [1] 분산투자, 왜 해야 할까? 포트폴리오 뜻과 분산투자 방법...\n",
      "      https://kbthink.com/investment/101/diversification.html\n",
      "  [2] 주식투자 분산투자의 정석(초보 투자자를 위한 분산투자 전략)...\n",
      "      https://m.blog.naver.com/collera/222000587376\n",
      "  [3] 주식시장 입문 가이드: 9단계 투자 전략 | EBC Financial Group...\n",
      "      https://www.ebc.com/kr/forex/244322.html\n",
      "\n",
      "==================================================\n",
      "[Generate] Iteration 2\n",
      "Context 개수: 3\n",
      "\n",
      "[QA Eval] Iteration 2\n",
      "평가 점수: 18/20\n",
      "코멘트: 답변은 주식 투자 시 분산 투자의 중요성을 잘 설명하고 있으며, 리스크 감소, 평단가 낮추기, 정신적 안정, 다양한 산업에 투자하는 방법 등 여러 측면을 포괄적으로 다루고 있습니다. 각 항목이 명확하게 구분되어 있어 이해하기 쉽고, 관련된 격언과 예시를 통해 설명이 강화되었습니다. 다만, 출처가 구체적으로 명시되지 않아 신뢰성을 높이기 위해 출처를 명확히 하는 것이 좋습니다.\n",
      "추가 정보 필요: False\n",
      "✅ 점수가 threshold(15) 이상입니다. 종료합니다.\n",
      "\n",
      "최종 평가 점수: 0/20\n",
      "반복 횟수: 2\n",
      "\n",
      "답변:\n",
      "주식 투자 시 분산 투자는 매우 중요한 전략입니다. 그 이유는 다음과 같습니다:\n",
      "\n",
      "1. **리스크 감소**: 분산투자는 여러 자산에 투자하여 특정 자산의 손실이 전체 포트폴리오에 미치는 영향을 줄입니다. 예를 들어, 한 자산에서 손해를 보더라도 다른 자산의 수익이 이를 상쇄할 수 있습니다. 이는 \"계란을 한 바구니에 담지 말라\"는 격언으로 잘 설명됩니다(출처 1).\n",
      "\n",
      "2. **평단가 낮추기**: 주가가 하락할 때 추가 매수를 통해 평균 매입 가격(평단가)을 낮출 수 있습니다. 예를 들어, 주가가 하락했을 때 추가로 매수하면, 전체 투자에서 손실을 줄이는 효과를 얻을 수 있습니다(출처 2).\n",
      "\n",
      "3. **정신적 안정**: 분산투자는 투자 실패에 대한 멘탈을 안정적으로 유지하는 데 도움을 줍니다. 만약 1~2개의 주식이 실패하더라도 나머지 주식들이 수익을 내면 전체적인 투자 성과에 긍정적인 영향을 미칠 수 있습니다(출처 2).\n",
      "\n",
      "4. **다양한 산업에 투자**: 초보 투자자는 기술, 의료, 금융, 소비재 등 다양한 산업의 주식을 혼합하여 소규모로 분산된 포트폴리오를 구성하는 것이 좋습니다. 이는 특정 산업의 부진이 전체 포트폴리오에 미치는 영향을 줄이는 데 도움이 됩니다(출처 3).\n",
      "\n",
      "결론적으로, 분산 투자는 리스크를 줄이고 장기적인 수익률을 높이는 데 중요한 역할을 하며, 안정적인 투자 전략으로 자리 잡고 있습니다.\n"
     ]
    }
   ],
   "execution_count": 10
  },
  {
   "cell_type": "markdown",
   "id": "0p9jqpotmde",
   "source": "## 10. 실습 문제\n\n아래 10개의 문제를 순서대로 풀어보세요. LangGraph와 웹 검색 기반 Agent를 이해하는 데 도움이 됩니다.",
   "metadata": {}
  },
  {
   "cell_type": "code",
   "id": "pzk86tm1po",
   "source": "# TODO: AgentState의 필드 이름을 모두 출력하세요\n# 힌트: AgentState.__annotations__.keys()를 사용하세요\n\nfields = list(___)  # 빈칸을 채우세요\nprint(\"AgentState 필드 목록:\")\nfor field in fields:\n    print(f\"  - {field}\")\n\n# 기대 결과: query, context, answer, search_threshold 등 9개 필드",
   "metadata": {},
   "execution_count": null,
   "outputs": []
  },
  {
   "cell_type": "code",
   "id": "9lyrp2x3r6",
   "source": "# TODO: \"테스트 질문\"으로 초기 상태를 생성하세요\nmy_state = {\n    'query': ___,  # 빈칸을 채우세요\n    'search_threshold': 15,\n    'iteration_count': ___,  # 빈칸을 채우세요\n    'max_iterations': 3,\n    'context': ___,  # 빈칸을 채우세요 (빈 리스트)\n    'answer': '',\n    'evaluation_score': 0,\n    'evaluation_comment': '',\n    'error': ''\n}\n\nprint(f\"질문: {my_state['query']}\")\nprint(f\"최대 반복: {my_state['max_iterations']}\")\n\n# 기대 결과: 질문: 테스트 질문, 최대 반복: 3",
   "metadata": {},
   "execution_count": null,
   "outputs": []
  },
  {
   "cell_type": "code",
   "id": "as6g1fzv5sl",
   "source": "# TODO: 점수 18점, 코멘트 \"좋은 답변입니다\", needs_more_info=False인 평가 결과 생성\neval_result = EvaledAnswer(\n    score=___,  # 빈칸을 채우세요\n    comment=___,  # 빈칸을 채우세요\n    needs_more_info=___  # 빈칸을 채우세요\n)\n\nprint(f\"점수: {eval_result.score}/20\")\nprint(f\"코멘트: {eval_result.comment}\")\nprint(f\"추가 정보 필요: {eval_result.needs_more_info}\")\n\n# 기대 결과: 점수: 18/20, 코멘트: 좋은 답변입니다, 추가 정보 필요: False",
   "metadata": {},
   "execution_count": null,
   "outputs": []
  },
  {
   "cell_type": "code",
   "id": "u0eq5lbfwxd",
   "source": "# TODO: Tavily로 \"삼성전자 주가\" 검색\nsearch_query = ___  # 빈칸을 채우세요\nresults = tavily_search_tool.invoke(search_query)\n\nprint(f\"검색어: {search_query}\")\nprint(f\"결과 개수: {len(results)}\")\nprint(f\"\\n첫 번째 결과:\")\nprint(f\"  제목: {results[0].get('title', 'N/A')[:50]}...\")\nprint(f\"  URL: {results[0].get('url', 'N/A')}\")\n\n# 기대 결과: 3개의 검색 결과와 첫 번째 결과의 제목/URL",
   "metadata": {},
   "execution_count": null,
   "outputs": []
  },
  {
   "cell_type": "code",
   "id": "bgkjqhpu8xa",
   "source": "# TODO: 나만의 질문으로 그래프 실행\nmy_question = ___  # 여기에 질문을 작성하세요\n\nmy_test_state = {\n    'query': my_question,\n    'search_threshold': 15,\n    'iteration_count': 0,\n    'max_iterations': 2,  # 테스트용으로 2로 설정\n    'context': [],\n    'answer': '',\n    'evaluation_score': 0,\n    'evaluation_comment': '',\n    'error': ''\n}\n\nprint(f\"질문: {my_question}\")\nprint(\"=\"*70)\n\n# 그래프 실행\nresult = graph.invoke(my_test_state)\n\nprint(f\"\\n최종 답변:\")\nprint(result.get('answer', 'N/A'))\nprint(f\"\\n평가 점수: {result.get('evaluation_score', 0)}/20\")\n\n# 기대 결과: 질문에 대한 답변과 평가 점수",
   "metadata": {},
   "execution_count": null,
   "outputs": []
  },
  {
   "cell_type": "code",
   "id": "yng1hunb0m",
   "source": "# 정답 예시 (주석 해제하여 확인)\n\n# # 문제 1\n# fields = list(AgentState.__annotations__.keys())\n\n# # 문제 2\n# my_state = {\n#     'query': \"테스트 질문\",\n#     'iteration_count': 0,\n#     'context': []\n# }\n\n# # 문제 3\n# response = llm.invoke(question)\n\n# # 문제 4\n# eval_result = EvaledAnswer(\n#     score=18,\n#     comment=\"좋은 답변입니다\",\n#     needs_more_info=False\n# )\n\n# # 문제 5\n# if score >= threshold and not needs_more_info:\n\n# # 문제 6\n# return iteration >= max_iter\n\n# # 문제 7\n# search_query = \"삼성전자 주가\"\n\n# # 문제 8\n# updated_context = existing_context + new_results\n\n# # 문제 9\n# test_graph = StateGraph(AgentState)\n# test_graph.add_node(\"my_node\", my_node)\n\n# # 문제 10\n# my_question = \"주식 투자의 기본 원칙 3가지는?\"",
   "metadata": {},
   "execution_count": null,
   "outputs": []
  },
  {
   "cell_type": "markdown",
   "id": "tsvth3902t",
   "source": "---\n\n## 정답 확인\n\n모든 문제를 풀었다면, 아래 셀의 주석을 해제하여 정답을 확인할 수 있습니다.",
   "metadata": {}
  },
  {
   "cell_type": "markdown",
   "id": "ptfykcdldfs",
   "source": "### 문제 10: 나만의 워크플로우 만들기\n\n**목표**: 간단한 질문을 만들고 그래프를 실행하여 답변을 받아보세요.\n\n**힌트**: \n- `initial_state`를 만들고 `graph.invoke()`로 실행하세요.\n- 웹 검색이 필요 없는 일반적인 질문을 선택하면 더 빠릅니다.\n\n**추천 질문 예시**:\n- \"주식 투자의 기본 원칙 3가지는?\"\n- \"분산 투자가 중요한 이유는?\"\n- \"장기 투자와 단기 투자의 차이점은?\"",
   "metadata": {}
  },
  {
   "cell_type": "markdown",
   "id": "xo3i8piilmj",
   "source": "### 문제 9: StateGraph 노드 추가하기\n\n**목표**: StateGraph에 새로운 노드를 추가하는 코드를 작성하세요.\n\n**힌트**: `add_node()` 메서드를 사용하세요.",
   "metadata": {}
  },
  {
   "cell_type": "code",
   "id": "78nwdotsaxr",
   "source": "# TODO: 새로운 StateGraph 생성하고 노드 추가\nfrom langgraph.graph import StateGraph\n\n# 간단한 노드 함수 정의\ndef my_node(state: AgentState) -> AgentState:\n    \\\"\\\"\\\"간단한 노드 함수\\\"\\\"\\\"\n    print(\"my_node 실행!\")\n    return {\"answer\": \"노드 테스트\"}\n\n# StateGraph 생성\ntest_graph = StateGraph(___)  # 빈칸을 채우세요 (AgentState)\n\n# 노드 추가\ntest_graph.add_node(___, my_node)  # 빈칸을 채우세요 (\"my_node\")\n\nprint(\"✅ StateGraph 생성 및 노드 추가 완료\")\n\n# 기대 결과: ✅ StateGraph 생성 및 노드 추가 완료",
   "metadata": {},
   "execution_count": null,
   "outputs": []
  },
  {
   "cell_type": "markdown",
   "id": "f8s0wfp4usl",
   "source": "### 문제 8: Context 누적 이해하기\n\n**목표**: 기존 context에 새로운 검색 결과를 누적하는 로직을 작성하세요.\n\n**힌트**: 리스트 합치기(`+`)를 사용하세요.",
   "metadata": {}
  },
  {
   "cell_type": "code",
   "id": "p85o52k3um",
   "source": "# TODO: Context 누적 로직 완성\nexisting_context = [{\"title\": \"결과1\", \"url\": \"http://example.com/1\"}]\nnew_results = [\n    {\"title\": \"결과2\", \"url\": \"http://example.com/2\"},\n    {\"title\": \"결과3\", \"url\": \"http://example.com/3\"}\n]\n\n# 기존 context에 새 결과 추가\nupdated_context = existing_context ___ new_results  # 빈칸을 채우세요 (+)\n\nprint(f\"기존 context: {len(existing_context)}개\")\nprint(f\"새 결과: {len(new_results)}개\")\nprint(f\"누적 context: {len(updated_context)}개\")\n\n# 기대 결과: 기존 context: 1개, 새 결과: 2개, 누적 context: 3개",
   "metadata": {},
   "execution_count": null,
   "outputs": []
  },
  {
   "cell_type": "markdown",
   "id": "jpnntp5szpn",
   "source": "### 문제 7: Tavily 검색 API 사용하기\n\n**목표**: Tavily API로 \"삼성전자 주가\"를 검색하세요.\n\n**힌트**: `tavily_search_tool.invoke()` 메서드를 사용하세요.",
   "metadata": {}
  },
  {
   "cell_type": "markdown",
   "id": "7ngraentwi9",
   "source": "### 문제 6: 조건부 로직 작성하기\n\n**목표**: 최대 반복 횟수를 체크하는 로직을 작성하세요.\n\n**힌트**: `iteration_count`와 `max_iterations`를 비교하세요.",
   "metadata": {}
  },
  {
   "cell_type": "code",
   "id": "q3ijiekmht",
   "source": "# TODO: 최대 반복 횟수 체크 함수 완성\ndef check_max_iterations(iteration: int, max_iter: int) -> bool:\n    \"\"\"최대 반복 횟수에 도달했는지 확인\"\"\"\n    return iteration >= ___  # 빈칸을 채우세요\n\n# 테스트\nprint(check_max_iterations(3, 3))  # True\nprint(check_max_iterations(2, 3))  # False\nprint(check_max_iterations(4, 3))  # True\n\n# 기대 결과: True, False, True",
   "metadata": {},
   "execution_count": null,
   "outputs": []
  },
  {
   "cell_type": "markdown",
   "id": "24uuyp7fjkn",
   "source": "### 문제 5: 평가 점수 이해하기\n\n**목표**: 점수에 따라 다음 행동을 결정하는 조건문을 작성하세요.\n\n**힌트**: `search_threshold`와 비교하세요.",
   "metadata": {}
  },
  {
   "cell_type": "code",
   "id": "2liif6d73g9",
   "source": "# TODO: 점수에 따라 행동을 결정하는 함수 완성\ndef decide_action(score: int, threshold: int, needs_more_info: bool) -> str:\n    \"\"\"점수와 threshold를 비교하여 다음 행동 결정\"\"\"\n    if score >= ___ and not needs_more_info:  # 빈칸을 채우세요\n        return \"enough\"  # 충분함, 종료\n    else:\n        return \"search\"  # 검색 필요\n\n# 테스트\nprint(decide_action(18, 15, False))  # \"enough\"\nprint(decide_action(12, 15, False))  # \"search\"\nprint(decide_action(18, 15, True))   # \"search\"\n\n# 기대 결과: enough, search, search",
   "metadata": {},
   "execution_count": null,
   "outputs": []
  },
  {
   "cell_type": "markdown",
   "id": "hgxvpd5rtx",
   "source": "### 문제 4: Pydantic으로 구조화된 출력 만들기\n\n**목표**: `EvaledAnswer` 클래스를 사용하여 구조화된 평가 결과를 생성하세요.\n\n**힌트**: Pydantic 모델 인스턴스를 직접 생성하세요.",
   "metadata": {}
  },
  {
   "cell_type": "markdown",
   "id": "pr0gtxh553o",
   "source": "### 문제 3: LLM으로 답변 생성하기\n\n**목표**: `ChatOpenAI`를 사용하여 간단한 질문에 답변을 생성하세요.\n\n**힌트**: `llm.invoke()` 메서드를 사용하세요.",
   "metadata": {}
  },
  {
   "cell_type": "code",
   "id": "zo5sxe4p349",
   "source": "# TODO: \"주식 투자란 무엇인가요?\" 질문에 대한 답변 생성\nquestion = \"주식 투자란 무엇인가요?\"\nresponse = llm.invoke(___)  # 빈칸을 채우세요\n\nprint(f\"질문: {question}\")\nprint(f\"답변: {response.content[:100]}...\")  # 처음 100자만 출력\n\n# 기대 결과: LLM이 생성한 주식 투자에 대한 설명",
   "metadata": {},
   "execution_count": null,
   "outputs": []
  },
  {
   "cell_type": "markdown",
   "id": "kpssijet6k",
   "source": "### 문제 2: 간단한 State 생성하기\n\n**목표**: 초기 `AgentState`를 딕셔너리로 생성하세요.\n\n**힌트**: 위의 `initial_state` 예시를 참고하세요.",
   "metadata": {}
  },
  {
   "cell_type": "markdown",
   "id": "xprnfswulw",
   "source": "### 문제 1: AgentState 타입 이해하기\n\n**목표**: `AgentState`에 어떤 필드들이 있는지 확인하고, 각 필드의 역할을 이해하세요.\n\n**힌트**: `AgentState` 클래스 정의를 다시 읽어보세요.",
   "metadata": {}
  },
  {
   "metadata": {},
   "cell_type": "code",
   "outputs": [],
   "execution_count": null,
   "source": "",
   "id": "6d6fbe58d29a3220"
  }
 ],
 "metadata": {
  "kernelspec": {
   "display_name": "Python 3",
   "language": "python",
   "name": "python3"
  },
  "language_info": {
   "name": "python",
   "version": "3.11.0"
  }
 },
 "nbformat": 4,
 "nbformat_minor": 5
}