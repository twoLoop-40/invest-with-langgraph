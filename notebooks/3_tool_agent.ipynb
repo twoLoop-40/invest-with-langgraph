{
 "cells": [
  {
   "cell_type": "markdown",
   "id": "header",
   "metadata": {},
   "source": [
    "# Tool-based Investment Agent (ReAct Pattern)\n",
    "\n",
    "## 아키텍처 개선:\n",
    "- ✅ **Idris 명세 기반 구현** (`idris/Domain/Tools.idr`, `idris/Domain/ReActAgent.idr`)\n",
    "- ✅ **LangChain Tool 프레임워크** 사용\n",
    "- ✅ **ReAct 패턴** (Reasoning + Acting)\n",
    "- ✅ **확장 가능한 도구 시스템**\n",
    "- ✅ **표준 LangGraph prebuilt components**\n",
    "\n",
    "## Idris 명세와의 대응:\n",
    "- `python/models/tools.py` ← `idris/Domain/Tools.idr`\n",
    "- 이 노트북 ← `idris/Domain/ReActAgent.idr`"
   ]
  },
  {
   "cell_type": "code",
   "execution_count": null,
   "id": "setup",
   "metadata": {},
   "outputs": [],
   "source": [
    "# 환경 변수 로드\n",
    "from dotenv import load_dotenv\n",
    "load_dotenv()"
   ]
  },
  {
   "cell_type": "markdown",
   "id": "tools-header",
   "metadata": {},
   "source": [
    "## 1. Tool 가져오기 (Tools.idr 기반 구현)"
   ]
  },
  {
   "cell_type": "code",
   "execution_count": null,
   "id": "import-tools",
   "metadata": {},
   "outputs": [],
   "source": [
    "import sys\n",
    "sys.path.append('..')\n",
    "\n",
    "from python.models.tools import (\n",
    "    AVAILABLE_TOOLS,\n",
    "    search_web,\n",
    "    get_stock_price,\n",
    "    calculate_moving_average,\n",
    "    get_company_info,\n",
    "    ToolAgentState\n",
    ")\n",
    "\n",
    "print(f\"✅ {len(AVAILABLE_TOOLS)}개의 도구 로드 완료:\")\n",
    "for t in AVAILABLE_TOOLS:\n",
    "    print(f\"  - {t.name}: {t.description}\")"
   ]
  },
  {
   "cell_type": "markdown",
   "id": "agent-header",
   "metadata": {},
   "source": [
    "## 2. ReAct Agent 생성 (ReActAgent.idr 기반)\n",
    "\n",
    "Idris spec: `PrebuiltReActAgent` in `ReActAgent.idr`"
   ]
  },
  {
   "cell_type": "code",
   "execution_count": null,
   "id": "create-agent",
   "metadata": {},
   "outputs": [],
   "source": [
    "from langchain_openai import ChatOpenAI\n",
    "from langgraph.prebuilt import create_react_agent\n",
    "\n",
    "# LLM 설정\n",
    "llm = ChatOpenAI(model=\"gpt-4o-mini\", temperature=0)\n",
    "\n",
    "# 시스템 프롬프트 (Idris spec: systemPrompt in PrebuiltReActAgent)\n",
    "system_prompt = \"\"\"당신은 전문 주식 투자 분석가입니다.\n",
    "\n",
    "**역할**:\n",
    "- 사용자의 투자 관련 질문에 데이터 기반으로 답변\n",
    "- 필요한 경우 제공된 도구를 사용하여 정보 수집\n",
    "- 실시간 주가, 기업 정보, 뉴스 등을 활용한 분석\n",
    "\n",
    "**사용 가능한 도구**:\n",
    "1. search_web: 웹에서 최신 뉴스 및 정보 검색\n",
    "2. get_stock_price: 특정 주식의 가격 정보 조회\n",
    "3. calculate_moving_average: 기술적 분석 (이동평균선)\n",
    "4. get_company_info: 기업 기본 정보 및 재무 지표\n",
    "\n",
    "**답변 원칙**:\n",
    "- 구체적인 데이터와 출처를 제시\n",
    "- 불확실한 정보는 명시\n",
    "- 투자 결정은 사용자의 몫임을 강조\n",
    "\"\"\"\n",
    "\n",
    "# ReAct Agent 생성 (Idris spec: createAgent in ReActAgent.idr)\n",
    "agent = create_react_agent(\n",
    "    llm,\n",
    "    AVAILABLE_TOOLS,\n",
    "    state_modifier=system_prompt\n",
    ")\n",
    "\n",
    "print(\"✅ ReAct Agent 생성 완료\")\n",
    "print(f\"   도구 개수: {len(AVAILABLE_TOOLS)}\")\n",
    "print(f\"   LLM 모델: {llm.model_name}\")"
   ]
  },
  {
   "cell_type": "markdown",
   "id": "viz-header",
   "metadata": {},
   "source": [
    "## 3. 그래프 시각화\n",
    "\n",
    "Idris spec: `AgentNode` (LLMNode, ToolsNode) in `ReActAgent.idr`"
   ]
  },
  {
   "cell_type": "code",
   "execution_count": null,
   "id": "visualize",
   "metadata": {},
   "outputs": [],
   "source": [
    "from IPython.display import Image, display\n",
    "\n",
    "try:\n",
    "    display(Image(agent.get_graph().draw_mermaid_png()))\n",
    "except Exception as e:\n",
    "    print(f\"그래프 시각화 실패: {e}\")\n",
    "    print(\"\\n텍스트 구조:\")\n",
    "    print(\"START → __start__ → agent → tools → agent → __end__ → END\")"
   ]
  },
  {
   "cell_type": "markdown",
   "id": "helper-header",
   "metadata": {},
   "source": [
    "## 4. 헬퍼 함수\n",
    "\n",
    "Idris spec: `ExecutionCycle` and streaming in `ReActAgent.idr`"
   ]
  },
  {
   "cell_type": "code",
   "execution_count": null,
   "id": "helper-function",
   "metadata": {},
   "outputs": [],
   "source": [
    "def run_agent(query: str, verbose: bool = True):\n",
    "    \"\"\"\n",
    "    Agent 실행 헬퍼 함수\n",
    "    \n",
    "    Idris spec:\n",
    "    - AgentExecutionState in ReActAgent.idr\n",
    "    - ExecutionCycle (AgentThinking, ToolsExecuting, Completed)\n",
    "    \"\"\"\n",
    "    print(f\"\\n{'='*70}\")\n",
    "    print(f\"질문: {query}\")\n",
    "    print(f\"{'='*70}\\n\")\n",
    "    \n",
    "    messages = [{\"role\": \"user\", \"content\": query}]\n",
    "    \n",
    "    # Idris spec: stream with StreamMode (Values, Updates, Messages)\n",
    "    for chunk in agent.stream({\"messages\": messages}, stream_mode=\"values\"):\n",
    "        if verbose:\n",
    "            last_message = chunk[\"messages\"][-1]\n",
    "            \n",
    "            # Idris spec: LLMResponse (ToolCalls | TextAnswer)\n",
    "            if hasattr(last_message, 'content') and last_message.content:\n",
    "                print(f\"[{last_message.__class__.__name__}]\")\n",
    "                print(last_message.content)\n",
    "                print()\n",
    "            elif hasattr(last_message, 'tool_calls') and last_message.tool_calls:\n",
    "                # Idris spec: ToolCall in Tools.idr\n",
    "                for tc in last_message.tool_calls:\n",
    "                    print(f\"🔧 도구 호출: {tc['name']}\")\n",
    "                    print(f\"   입력: {tc['args']}\")\n",
    "                print()\n",
    "    \n",
    "    # 최종 답변 (Idris spec: finalAnswer in AgentExecutionState)\n",
    "    final_message = chunk[\"messages\"][-1]\n",
    "    print(f\"\\n{'='*70}\")\n",
    "    print(\"최종 답변:\")\n",
    "    print(f\"{'='*70}\")\n",
    "    print(final_message.content)\n",
    "    print(f\"{'='*70}\\n\")\n",
    "    \n",
    "    return chunk\n",
    "\n",
    "print(\"✅ 헬퍼 함수 정의 완료\")"
   ]
  },
  {
   "cell_type": "markdown",
   "id": "test1-header",
   "metadata": {},
   "source": [
    "## 5. 테스트 1: 간단한 주가 조회"
   ]
  },
  {
   "cell_type": "code",
   "execution_count": null,
   "id": "test-simple",
   "metadata": {},
   "outputs": [],
   "source": [
    "# Idris spec: initialExecState in ReActAgent.idr\n",
    "result1 = run_agent(\"삼성전자 현재 주가 알려줘\")"
   ]
  },
  {
   "cell_type": "markdown",
   "id": "test2-header",
   "metadata": {},
   "source": [
    "## 6. 테스트 2: 복합 분석 (여러 도구 사용)\n",
    "\n",
    "Idris spec: `ReActCycle` (Thought → Action → Observation)"
   ]
  },
  {
   "cell_type": "code",
   "execution_count": null,
   "id": "test-complex",
   "metadata": {},
   "outputs": [],
   "source": [
    "result2 = run_agent(\n",
    "    \"삼성전자(005930.KS)의 현재 주가와 20일 이동평균을 비교하고, \"\n",
    "    \"최근 관련 뉴스도 검색해서 투자 의견을 제시해줘\"\n",
    ")"
   ]
  },
  {
   "cell_type": "markdown",
   "id": "test3-header",
   "metadata": {},
   "source": [
    "## 7. 테스트 3: 미국 주식 분석"
   ]
  },
  {
   "cell_type": "code",
   "execution_count": null,
   "id": "test-us-stock",
   "metadata": {},
   "outputs": [],
   "source": [
    "result3 = run_agent(\n",
    "    \"Apple(AAPL) 주식의 기업 정보와 최근 3개월 주가 추이를 분석해줘\"\n",
    ")"
   ]
  },
  {
   "cell_type": "markdown",
   "id": "invariants-header",
   "metadata": {},
   "source": [
    "## 8. 불변 속성 검증 (Idris spec에서 정의)\n",
    "\n",
    "Idris에서 정의한 속성들을 Python에서 런타임 검증:"
   ]
  },
  {
   "cell_type": "code",
   "execution_count": null,
   "id": "verify-invariants",
   "metadata": {},
   "outputs": [],
   "source": [
    "# ToolAgentState 예시 생성 및 검증\n",
    "from python.models.tools import ToolHistory, ToolExecution\n",
    "\n",
    "# Idris spec: initialToolState\n",
    "state = ToolAgentState.initial_state(\"테스트 질문\", max_calls=5)\n",
    "\n",
    "# 도구 실행 시뮬레이션\n",
    "exec1 = ToolExecution(\n",
    "    tool_name=\"search_web\",\n",
    "    arguments={\"query\": \"test\"},\n",
    "    result=\"테스트 결과\",\n",
    "    call_id=\"call_1\"\n",
    ")\n",
    "state.tool_history.add_execution(exec1)\n",
    "state.current_iteration += 1\n",
    "\n",
    "# Idris spec: ToolCallBound, HistoryConsistent 검증\n",
    "print(\"불변 속성 검증:\")\n",
    "print(f\"  ToolCallBound: {state.tool_history.total_calls <= state.max_tool_calls}\")\n",
    "print(f\"  HistoryConsistent: {len(state.tool_history.executions) == state.tool_history.total_calls}\")\n",
    "print(f\"  전체 검증: {state.verify_invariants()}\")\n",
    "print(f\"\\n현재 상태:\")\n",
    "print(f\"  도구 호출 횟수: {state.tool_history.total_calls}/{state.max_tool_calls}\")\n",
    "print(f\"  더 호출 가능: {state.can_call_more_tools()}\")"
   ]
  },
  {
   "cell_type": "markdown",
   "id": "comparison-header",
   "metadata": {},
   "source": [
    "## 9. 아키텍처 비교\n",
    "\n",
    "| 항목 | 기존 (2 web_search.ipynb) | 새로운 (Tool-based) |\n",
    "|------|---------------------------|---------------------|\n",
    "| **명세** | 없음 | Idris 형식 명세 |\n",
    "| **아키텍처** | 커스텀 노드 + 조건부 엣지 | ReAct Prebuilt Agent |\n",
    "| **도구 정의** | 함수 내부에 하드코딩 | @tool 데코레이터 |\n",
    "| **확장성** | 새 기능 추가 시 노드/엣지 수정 | 새 도구 추가만으로 확장 |\n",
    "| **LLM 역할** | 답변 생성만 | 도구 선택 + 답변 생성 |\n",
    "| **평가** | 수동 구현 (qa_eval) | LLM 자체 판단 |\n",
    "| **반복 제어** | max_iterations 수동 관리 | Agent 자동 종료 |\n",
    "| **타입 안전성** | 런타임만 | Idris 컴파일 타임 + Python 런타임 |\n",
    "| **불변 속성** | 없음 | Idris에서 정의, Python에서 검증 |\n",
    "\n",
    "### Idris 명세의 이점:\n",
    "\n",
    "1. **설계 검증**: Python 구현 전에 타입 체크로 로직 검증\n",
    "2. **문서화**: 타입으로 시스템 동작 명확히 기술\n",
    "3. **불변 속성**: 런타임 검증할 속성을 명세에 정의\n",
    "4. **교육**: 학생들이 형식 명세의 중요성 학습"
   ]
  },
  {
   "cell_type": "markdown",
   "id": "exercises-header",
   "metadata": {},
   "source": [
    "## 10. 연습 문제\n",
    "\n",
    "### 문제 1: 새로운 도구 추가 (Idris-first 방식)\n",
    "\n",
    "1. `idris/Domain/Tools.idr`에 RSI 도구 명세 추가\n",
    "2. `idris2 --check` 실행\n",
    "3. `python/models/tools.py`에 구현\n",
    "4. Git commit\n",
    "\n",
    "```python\n",
    "@tool\n",
    "def calculate_rsi(\n",
    "    ticker: Annotated[str, \"주식 티커 심볼\"],\n",
    "    period: Annotated[int, \"RSI 계산 기간\"] = 14\n",
    ") -> str:\n",
    "    \"\"\"\n",
    "    RSI 지표를 계산합니다.\n",
    "    70 이상: 과매수, 30 이하: 과매도\n",
    "    \n",
    "    Idris spec: calculateRsiTool in Tools.idr\n",
    "    \"\"\"\n",
    "    # TODO: 구현하세요\n",
    "    pass\n",
    "```\n",
    "\n",
    "### 문제 2: 포트폴리오 분석 도구\n",
    "\n",
    "여러 주식을 입력받아 포트폴리오 수익률을 계산하는 도구를 Idris 명세부터 작성하세요.\n",
    "\n",
    "### 문제 3: 불변 속성 추가\n",
    "\n",
    "`ToolAgentState`에 새로운 불변 속성을 정의하고 검증 함수를 작성하세요."
   ]
  }
 ],
 "metadata": {
  "kernelspec": {
   "display_name": "Python 3 (ipykernel)",
   "language": "python",
   "name": "python3"
  },
  "language_info": {
   "codemirror_mode": {
    "name": "ipython",
    "version": 3
   },
   "file_extension": ".py",
   "mimetype": "text/x-python",
   "name": "python",
   "nbconvert_exporter": "python",
   "pygments_lexer": "ipython3",
   "version": "3.13.0"
  }
 },
 "nbformat": 4,
 "nbformat_minor": 5
}
