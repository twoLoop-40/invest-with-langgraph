{
 "cells": [
  {
   "cell_type": "markdown",
   "id": "header",
   "metadata": {},
   "source": [
    "# Tool 기반 투자 분석 Agent (ReAct 패턴)\n",
    "\n",
    "## 주요 기능:\n",
    "- ✅ **LangChain Tool 프레임워크** 활용\n",
    "- ✅ **ReAct 패턴** (Reasoning + Acting)\n",
    "- ✅ **4개의 투자 분석 도구**\n",
    "- ✅ **LangGraph prebuilt agent** 사용\n",
    "- ✅ **자동 도구 선택 및 실행**"
   ]
  },
  {
   "cell_type": "code",
   "execution_count": null,
   "id": "setup",
   "metadata": {},
   "outputs": [],
   "source": [
    "# 환경 변수 로드\n",
    "from dotenv import load_dotenv\n",
    "load_dotenv()"
   ]
  },
  {
   "cell_type": "markdown",
   "id": "tools-header",
   "metadata": {},
   "source": [
    "## 1. 투자 분석 도구 가져오기"
   ]
  },
  {
   "cell_type": "code",
   "execution_count": null,
   "id": "import-tools",
   "metadata": {},
   "outputs": [],
   "source": [
    "import sys\n",
    "sys.path.append('..')\n",
    "\n",
    "from python.models.tools import (\n",
    "    AVAILABLE_TOOLS,\n",
    "    search_web,\n",
    "    get_stock_price,\n",
    "    calculate_moving_average,\n",
    "    get_company_info,\n",
    "    ToolAgentState\n",
    ")\n",
    "\n",
    "print(f\"✅ {len(AVAILABLE_TOOLS)}개의 도구 로드 완료:\")\n",
    "for t in AVAILABLE_TOOLS:\n",
    "    print(f\"  - {t.name}: {t.description}\")"
   ]
  },
  {
   "cell_type": "markdown",
   "id": "agent-header",
   "metadata": {},
   "source": [
    "## 2. ReAct Agent 생성"
   ]
  },
  {
   "cell_type": "code",
   "execution_count": null,
   "id": "create-agent",
   "metadata": {},
   "outputs": [],
   "source": [
    "from langchain_openai import ChatOpenAI\n",
    "from langgraph.prebuilt import create_react_agent\n",
    "\n",
    "# LLM 설정\n",
    "llm = ChatOpenAI(model=\"gpt-4o-mini\", temperature=0)\n",
    "\n",
    "# 시스템 프롬프트\n",
    "system_prompt = \"\"\"당신은 전문 주식 투자 분석가입니다.\n",
    "\n",
    "**역할**:\n",
    "- 사용자의 투자 관련 질문에 데이터 기반으로 답변\n",
    "- 필요한 경우 제공된 도구를 사용하여 정보 수집\n",
    "- 실시간 주가, 기업 정보, 뉴스 등을 활용한 분석\n",
    "\n",
    "**사용 가능한 도구**:\n",
    "1. search_web: 웹에서 최신 뉴스 및 정보 검색\n",
    "2. get_stock_price: 특정 주식의 가격 정보 조회\n",
    "3. calculate_moving_average: 기술적 분석 (이동평균선)\n",
    "4. get_company_info: 기업 기본 정보 및 재무 지표\n",
    "\n",
    "**답변 원칙**:\n",
    "- 구체적인 데이터와 출처를 제시\n",
    "- 불확실한 정보는 명시\n",
    "- 투자 결정은 사용자의 몫임을 강조\n",
    "\"\"\"\n",
    "\n",
    "# ReAct Agent 생성\n",
    "agent = create_react_agent(\n",
    "    llm,\n",
    "    AVAILABLE_TOOLS,\n",
    "    state_modifier=system_prompt\n",
    ")\n",
    "\n",
    "print(\"✅ ReAct Agent 생성 완료\")\n",
    "print(f\"   도구 개수: {len(AVAILABLE_TOOLS)}\")\n",
    "print(f\"   LLM 모델: {llm.model_name}\")"
   ]
  },
  {
   "cell_type": "markdown",
   "id": "viz-header",
   "metadata": {},
   "source": [
    "## 3. 그래프 구조 시각화"
   ]
  },
  {
   "cell_type": "code",
   "execution_count": null,
   "id": "visualize",
   "metadata": {},
   "outputs": [],
   "source": [
    "from IPython.display import Image, display\n",
    "\n",
    "try:\n",
    "    display(Image(agent.get_graph().draw_mermaid_png()))\n",
    "except Exception as e:\n",
    "    print(f\"그래프 시각화 실패: {e}\")\n",
    "    print(\"\\n텍스트 구조:\")\n",
    "    print(\"START → __start__ → agent → tools → agent → __end__ → END\")"
   ]
  },
  {
   "cell_type": "markdown",
   "id": "helper-header",
   "metadata": {},
   "source": [
    "## 4. Agent 실행 헬퍼 함수"
   ]
  },
  {
   "cell_type": "code",
   "execution_count": null,
   "id": "helper-function",
   "metadata": {},
   "outputs": [],
   "source": [
    "def run_agent(query: str, verbose: bool = True):\n",
    "    \"\"\"\n",
    "    Agent를 실행하고 결과를 출력합니다.\n",
    "    \n",
    "    Args:\n",
    "        query: 사용자 질문\n",
    "        verbose: 실행 과정 출력 여부\n",
    "    \"\"\"\n",
    "    print(f\"\\n{'='*70}\")\n",
    "    print(f\"질문: {query}\")\n",
    "    print(f\"{'='*70}\\n\")\n",
    "    \n",
    "    messages = [{\"role\": \"user\", \"content\": query}]\n",
    "    \n",
    "    for chunk in agent.stream({\"messages\": messages}, stream_mode=\"values\"):\n",
    "        if verbose:\n",
    "            last_message = chunk[\"messages\"][-1]\n",
    "            \n",
    "            if hasattr(last_message, 'content') and last_message.content:\n",
    "                print(f\"[{last_message.__class__.__name__}]\")\n",
    "                print(last_message.content)\n",
    "                print()\n",
    "            elif hasattr(last_message, 'tool_calls') and last_message.tool_calls:\n",
    "                for tc in last_message.tool_calls:\n",
    "                    print(f\"🔧 도구 호출: {tc['name']}\")\n",
    "                    print(f\"   입력: {tc['args']}\")\n",
    "                print()\n",
    "    \n",
    "    # 최종 답변\n",
    "    final_message = chunk[\"messages\"][-1]\n",
    "    print(f\"\\n{'='*70}\")\n",
    "    print(\"최종 답변:\")\n",
    "    print(f\"{'='*70}\")\n",
    "    print(final_message.content)\n",
    "    print(f\"{'='*70}\\n\")\n",
    "    \n",
    "    return chunk\n",
    "\n",
    "print(\"✅ 헬퍼 함수 정의 완료\")"
   ]
  },
  {
   "cell_type": "markdown",
   "id": "test1-header",
   "metadata": {},
   "source": [
    "## 5. 테스트 1: 간단한 주가 조회"
   ]
  },
  {
   "cell_type": "code",
   "execution_count": null,
   "id": "test-simple",
   "metadata": {},
   "outputs": [],
   "source": [
    "result1 = run_agent(\"삼성전자 현재 주가 알려줘\")"
   ]
  },
  {
   "cell_type": "markdown",
   "id": "test2-header",
   "metadata": {},
   "source": [
    "## 6. 테스트 2: 복합 분석 (여러 도구 사용)\n",
    "\n",
    "ReAct 패턴에 따라 Agent가 여러 도구를 순차적으로 사용합니다."
   ]
  },
  {
   "cell_type": "code",
   "execution_count": null,
   "id": "test-complex",
   "metadata": {},
   "outputs": [],
   "source": [
    "result2 = run_agent(\n",
    "    \"삼성전자(005930.KS)의 현재 주가와 20일 이동평균을 비교하고, \"\n",
    "    \"최근 관련 뉴스도 검색해서 투자 의견을 제시해줘\"\n",
    ")"
   ]
  },
  {
   "cell_type": "markdown",
   "id": "test3-header",
   "metadata": {},
   "source": [
    "## 7. 테스트 3: 미국 주식 분석"
   ]
  },
  {
   "cell_type": "code",
   "execution_count": null,
   "id": "test-us-stock",
   "metadata": {},
   "outputs": [],
   "source": [
    "result3 = run_agent(\n",
    "    \"Apple(AAPL) 주식의 기업 정보와 최근 3개월 주가 추이를 분석해줘\"\n",
    ")"
   ]
  },
  {
   "cell_type": "markdown",
   "id": "invariants-header",
   "metadata": {},
   "source": [
    "## 8. 불변 속성 검증 예시\n",
    "\n",
    "Agent 상태의 불변 속성을 런타임에 검증할 수 있습니다."
   ]
  },
  {
   "cell_type": "code",
   "execution_count": null,
   "id": "verify-invariants",
   "metadata": {},
   "outputs": [],
   "source": [
    "from python.models.tools import ToolHistory, ToolExecution\n",
    "\n",
    "# 초기 상태 생성\n",
    "state = ToolAgentState.initial_state(\"테스트 질문\", max_calls=5)\n",
    "\n",
    "# 도구 실행 시뮬레이션\n",
    "exec1 = ToolExecution(\n",
    "    tool_name=\"search_web\",\n",
    "    arguments={\"query\": \"test\"},\n",
    "    result=\"테스트 결과\",\n",
    "    call_id=\"call_1\"\n",
    ")\n",
    "state.tool_history.add_execution(exec1)\n",
    "state.current_iteration += 1\n",
    "\n",
    "# 불변 속성 검증\n",
    "print(\"불변 속성 검증:\")\n",
    "print(f\"  도구 호출 횟수 제한: {state.tool_history.total_calls <= state.max_tool_calls}\")\n",
    "print(f\"  히스토리 일관성: {len(state.tool_history.executions) == state.tool_history.total_calls}\")\n",
    "print(f\"  전체 검증: {state.verify_invariants()}\")\n",
    "print(f\"\\n현재 상태:\")\n",
    "print(f\"  도구 호출 횟수: {state.tool_history.total_calls}/{state.max_tool_calls}\")\n",
    "print(f\"  더 호출 가능: {state.can_call_more_tools()}\")"
   ]
  },
  {
   "cell_type": "markdown",
   "id": "exercises-header",
   "metadata": {},
   "source": [
    "## 9. 연습 문제\n",
    "\n",
    "### 문제 1: RSI 지표 도구 추가\n",
    "\n",
    "`python/models/tools.py`에 새로운 도구를 추가하세요.\n",
    "\n",
    "```python\n",
    "@tool\n",
    "def calculate_rsi(\n",
    "    ticker: Annotated[str, \"주식 티커 심볼\"],\n",
    "    period: Annotated[int, \"RSI 계산 기간\"] = 14\n",
    ") -> str:\n",
    "    \"\"\"\n",
    "    RSI 지표를 계산합니다.\n",
    "    70 이상: 과매수, 30 이하: 과매도\n",
    "    \"\"\"\n",
    "    # TODO: 구현하세요\n",
    "    pass\n",
    "```\n",
    "\n",
    "**힌트**:\n",
    "- `yfinance`로 과거 데이터 가져오기\n",
    "- RSI 공식: RSI = 100 - (100 / (1 + RS)), RS = 평균 상승폭 / 평균 하락폭\n",
    "- `AVAILABLE_TOOLS` 리스트에 추가하기\n",
    "\n",
    "### 문제 2: 포트폴리오 분석 도구\n",
    "\n",
    "여러 주식을 입력받아 포트폴리오 수익률을 계산하는 도구를 만드세요.\n",
    "\n",
    "```python\n",
    "@tool\n",
    "def analyze_portfolio(\n",
    "    tickers: Annotated[str, \"쉼표로 구분된 티커 목록 (예: AAPL,MSFT,GOOGL)\"],\n",
    "    weights: Annotated[str, \"쉼표로 구분된 비중 (예: 0.4,0.3,0.3)\"] = None\n",
    ") -> str:\n",
    "    \"\"\"\n",
    "    포트폴리오의 수익률과 리스크를 분석합니다.\n",
    "    \"\"\"\n",
    "    # TODO: 구현하세요\n",
    "    pass\n",
    "```\n",
    "\n",
    "### 문제 3: 시스템 프롬프트 개선\n",
    "\n",
    "Agent의 시스템 프롬프트를 수정하여 더 나은 투자 조언을 제공하도록 만드세요.\n",
    "\n",
    "**고려사항**:\n",
    "- 리스크 경고 추가\n",
    "- 투자 기간별 조언 (단기/중기/장기)\n",
    "- 시장 상황에 따른 전략\n",
    "\n",
    "### 문제 4: 에러 처리 개선\n",
    "\n",
    "도구 실행 중 발생할 수 있는 에러를 더 잘 처리하도록 코드를 개선하세요.\n",
    "\n",
    "**예시**:\n",
    "- 잘못된 티커 심볼\n",
    "- 네트워크 오류\n",
    "- API 제한 초과"
   ]
  }
 ],
 "metadata": {
  "kernelspec": {
   "display_name": "Python 3 (ipykernel)",
   "language": "python",
   "name": "python3"
  },
  "language_info": {
   "codemirror_mode": {
    "name": "ipython",
    "version": 3
   },
   "file_extension": ".py",
   "mimetype": "text/x-python",
   "name": "python",
   "nbconvert_exporter": "python",
   "pygments_lexer": "ipython3",
   "version": "3.13.0"
  }
 },
 "nbformat": 4,
 "nbformat_minor": 5
}
