{
 "cells": [
  {
   "cell_type": "markdown",
   "id": "header",
   "metadata": {},
   "source": [
    "# Tool 기반 투자 분석 Agent (ReAct 패턴)\n",
    "\n",
    "## 주요 기능:\n",
    "- ✅ **LangChain Tool 프레임워크** 활용\n",
    "- ✅ **ReAct 패턴** (Reasoning + Acting)\n",
    "- ✅ **4개의 투자 분석 도구**\n",
    "- ✅ **LangGraph prebuilt agent** 사용\n",
    "- ✅ **자동 도구 선택 및 실행**"
   ]
  },
  {
   "cell_type": "code",
   "execution_count": null,
   "id": "setup",
   "metadata": {},
   "outputs": [],
   "source": [
    "# 환경 변수 로드\n",
    "from dotenv import load_dotenv\n",
    "load_dotenv()"
   ]
  },
  {
   "cell_type": "markdown",
   "id": "tools-header",
   "metadata": {},
   "source": [
    "## 1. 투자 분석 도구 가져오기"
   ]
  },
  {
   "cell_type": "code",
   "execution_count": null,
   "id": "import-tools",
   "metadata": {},
   "outputs": [],
   "source": [
    "import sys\n",
    "sys.path.append('..')\n",
    "\n",
    "from python.models.tools import (\n",
    "    AVAILABLE_TOOLS,\n",
    "    search_web,\n",
    "    get_stock_price,\n",
    "    calculate_moving_average,\n",
    "    get_company_info,\n",
    "    ToolAgentState\n",
    ")\n",
    "\n",
    "print(f\"✅ {len(AVAILABLE_TOOLS)}개의 도구 로드 완료:\")\n",
    "for t in AVAILABLE_TOOLS:\n",
    "    print(f\"  - {t.name}: {t.description}\")"
   ]
  },
  {
   "cell_type": "markdown",
   "id": "agent-header",
   "metadata": {},
   "source": [
    "## 2. ReAct Agent 생성"
   ]
  },
  {
   "cell_type": "code",
   "execution_count": null,
   "id": "create-agent",
   "metadata": {},
   "outputs": [],
   "source": "from langchain_openai import ChatOpenAI\nfrom langgraph.prebuilt import create_react_agent\n\n# LLM 설정\nllm = ChatOpenAI(model=\"gpt-4o-mini\", temperature=0)\n\n# 시스템 프롬프트\nsystem_prompt = \"\"\"당신은 전문 주식 투자 분석가입니다.\n\n**역할**:\n- 사용자의 투자 관련 질문에 데이터 기반으로 답변\n- 필요한 경우 제공된 도구를 사용하여 정보 수집\n- 실시간 주가, 기업 정보, 뉴스 등을 활용한 분석\n\n**사용 가능한 도구**:\n1. search_web: 웹에서 최신 뉴스 및 정보 검색\n2. get_stock_price: 특정 주식의 가격 정보 조회\n3. calculate_moving_average: 기술적 분석 (이동평균선)\n4. get_company_info: 기업 기본 정보 및 재무 지표\n\n**답변 원칙**:\n- 구체적인 데이터와 출처를 제시\n- 불확실한 정보는 명시\n- 투자 결정은 사용자의 몫임을 강조\n\"\"\"\n\n# ReAct Agent 생성\nagent = create_react_agent(\n    llm,\n    AVAILABLE_TOOLS,\n    prompt=system_prompt  # state_modifier 대신 prompt 사용\n)\n\nprint(\"✅ ReAct Agent 생성 완료\")\nprint(f\"   도구 개수: {len(AVAILABLE_TOOLS)}\")\nprint(f\"   LLM 모델: {llm.model_name}\")"
  },
  {
   "cell_type": "markdown",
   "id": "viz-header",
   "metadata": {},
   "source": [
    "## 3. 그래프 구조 시각화"
   ]
  },
  {
   "cell_type": "code",
   "execution_count": null,
   "id": "visualize",
   "metadata": {},
   "outputs": [],
   "source": [
    "from IPython.display import Image, display\n",
    "\n",
    "try:\n",
    "    display(Image(agent.get_graph().draw_mermaid_png()))\n",
    "except Exception as e:\n",
    "    print(f\"그래프 시각화 실패: {e}\")\n",
    "    print(\"\\n텍스트 구조:\")\n",
    "    print(\"START → __start__ → agent → tools → agent → __end__ → END\")"
   ]
  },
  {
   "cell_type": "markdown",
   "id": "helper-header",
   "metadata": {},
   "source": [
    "## 4. Agent 실행 헬퍼 함수"
   ]
  },
  {
   "cell_type": "code",
   "execution_count": null,
   "id": "helper-function",
   "metadata": {},
   "outputs": [],
   "source": [
    "def run_agent(query: str, verbose: bool = True):\n",
    "    \"\"\"\n",
    "    Agent를 실행하고 결과를 출력합니다.\n",
    "    \n",
    "    Args:\n",
    "        query: 사용자 질문\n",
    "        verbose: 실행 과정 출력 여부\n",
    "    \"\"\"\n",
    "    print(f\"\\n{'='*70}\")\n",
    "    print(f\"질문: {query}\")\n",
    "    print(f\"{'='*70}\\n\")\n",
    "    \n",
    "    messages = [{\"role\": \"user\", \"content\": query}]\n",
    "    \n",
    "    for chunk in agent.stream({\"messages\": messages}, stream_mode=\"values\"):\n",
    "        if verbose:\n",
    "            last_message = chunk[\"messages\"][-1]\n",
    "            \n",
    "            if hasattr(last_message, 'content') and last_message.content:\n",
    "                print(f\"[{last_message.__class__.__name__}]\")\n",
    "                print(last_message.content)\n",
    "                print()\n",
    "            elif hasattr(last_message, 'tool_calls') and last_message.tool_calls:\n",
    "                for tc in last_message.tool_calls:\n",
    "                    print(f\"🔧 도구 호출: {tc['name']}\")\n",
    "                    print(f\"   입력: {tc['args']}\")\n",
    "                print()\n",
    "    \n",
    "    # 최종 답변\n",
    "    final_message = chunk[\"messages\"][-1]\n",
    "    print(f\"\\n{'='*70}\")\n",
    "    print(\"최종 답변:\")\n",
    "    print(f\"{'='*70}\")\n",
    "    print(final_message.content)\n",
    "    print(f\"{'='*70}\\n\")\n",
    "    \n",
    "    return chunk\n",
    "\n",
    "print(\"✅ 헬퍼 함수 정의 완료\")"
   ]
  },
  {
   "cell_type": "markdown",
   "id": "test1-header",
   "metadata": {},
   "source": [
    "## 5. 테스트 1: 간단한 주가 조회"
   ]
  },
  {
   "cell_type": "code",
   "execution_count": null,
   "id": "test-simple",
   "metadata": {},
   "outputs": [],
   "source": [
    "result1 = run_agent(\"삼성전자 현재 주가 알려줘\")"
   ]
  },
  {
   "cell_type": "markdown",
   "id": "test2-header",
   "metadata": {},
   "source": [
    "## 6. 테스트 2: 복합 분석 (여러 도구 사용)\n",
    "\n",
    "ReAct 패턴에 따라 Agent가 여러 도구를 순차적으로 사용합니다."
   ]
  },
  {
   "cell_type": "code",
   "execution_count": null,
   "id": "test-complex",
   "metadata": {},
   "outputs": [],
   "source": [
    "result2 = run_agent(\n",
    "    \"삼성전자(005930.KS)의 현재 주가와 20일 이동평균을 비교하고, \"\n",
    "    \"최근 관련 뉴스도 검색해서 투자 의견을 제시해줘\"\n",
    ")"
   ]
  },
  {
   "cell_type": "markdown",
   "id": "test3-header",
   "metadata": {},
   "source": [
    "## 7. 테스트 3: 미국 주식 분석"
   ]
  },
  {
   "cell_type": "code",
   "execution_count": null,
   "id": "test-us-stock",
   "metadata": {},
   "outputs": [],
   "source": [
    "result3 = run_agent(\n",
    "    \"Apple(AAPL) 주식의 기업 정보와 최근 3개월 주가 추이를 분석해줘\"\n",
    ")"
   ]
  },
  {
   "cell_type": "markdown",
   "id": "invariants-header",
   "metadata": {},
   "source": [
    "## 8. 불변 속성 검증 예시\n",
    "\n",
    "Agent 상태의 불변 속성을 런타임에 검증할 수 있습니다."
   ]
  },
  {
   "cell_type": "code",
   "execution_count": null,
   "id": "verify-invariants",
   "metadata": {},
   "outputs": [],
   "source": [
    "from python.models.tools import ToolHistory, ToolExecution\n",
    "\n",
    "# 초기 상태 생성\n",
    "state = ToolAgentState.initial_state(\"테스트 질문\", max_calls=5)\n",
    "\n",
    "# 도구 실행 시뮬레이션\n",
    "exec1 = ToolExecution(\n",
    "    tool_name=\"search_web\",\n",
    "    arguments={\"query\": \"test\"},\n",
    "    result=\"테스트 결과\",\n",
    "    call_id=\"call_1\"\n",
    ")\n",
    "state.tool_history.add_execution(exec1)\n",
    "state.current_iteration += 1\n",
    "\n",
    "# 불변 속성 검증\n",
    "print(\"불변 속성 검증:\")\n",
    "print(f\"  도구 호출 횟수 제한: {state.tool_history.total_calls <= state.max_tool_calls}\")\n",
    "print(f\"  히스토리 일관성: {len(state.tool_history.executions) == state.tool_history.total_calls}\")\n",
    "print(f\"  전체 검증: {state.verify_invariants()}\")\n",
    "print(f\"\\n현재 상태:\")\n",
    "print(f\"  도구 호출 횟수: {state.tool_history.total_calls}/{state.max_tool_calls}\")\n",
    "print(f\"  더 호출 가능: {state.can_call_more_tools()}\")"
   ]
  },
  {
   "cell_type": "markdown",
   "id": "exercises-header",
   "metadata": {},
   "source": "## 9. 실습 문제\n\n아래 10개의 문제를 순서대로 풀어보세요. 각 문제는 점점 어려워집니다."
  },
  {
   "cell_type": "markdown",
   "id": "euu64l96ggb",
   "source": "### 문제 1: 도구 개수 확인하기\n\n**목표**: `AVAILABLE_TOOLS` 리스트에 몇 개의 도구가 있는지 출력하세요.\n\n**힌트**: `len()` 함수를 사용하세요.",
   "metadata": {}
  },
  {
   "cell_type": "code",
   "id": "yttomzonnn",
   "source": "# TODO: AVAILABLE_TOOLS의 개수를 출력하세요\ntool_count = ___  # 빈칸을 채우세요\nprint(f\"사용 가능한 도구 개수: {tool_count}\")\n\n# 기대 결과: 사용 가능한 도구 개수: 4",
   "metadata": {},
   "execution_count": null,
   "outputs": []
  },
  {
   "cell_type": "markdown",
   "id": "w4lurj81yi",
   "source": "### 문제 2: 도구 이름 출력하기\n\n**목표**: 모든 도구의 이름을 for 루프를 사용해서 출력하세요.\n\n**힌트**: `tool.name`으로 도구 이름에 접근할 수 있습니다.",
   "metadata": {}
  },
  {
   "cell_type": "code",
   "id": "lpcklw916",
   "source": "# TODO: 모든 도구의 이름을 출력하세요\nfor tool in ___:  # 빈칸을 채우세요\n    print(f\"- {___}\")  # 빈칸을 채우세요\n\n# 기대 결과:\n# - search_web\n# - get_stock_price\n# - calculate_moving_average\n# - get_company_info",
   "metadata": {},
   "execution_count": null,
   "outputs": []
  },
  {
   "cell_type": "markdown",
   "id": "2bdckgnfsur",
   "source": "### 문제 3: 특정 도구 찾기\n\n**목표**: `find_tool()` 함수를 사용해서 \"get_stock_price\" 도구를 찾고, 그 설명을 출력하세요.\n\n**힌트**: `from python.models.tools import find_tool`로 함수를 가져오세요.",
   "metadata": {}
  },
  {
   "cell_type": "code",
   "id": "gdi1pr21clm",
   "source": "from python.models.tools import find_tool\n\n# TODO: get_stock_price 도구를 찾아서 설명을 출력하세요\ntool = find_tool(___)  # 빈칸을 채우세요\nif tool:\n    print(f\"도구 설명: {tool.description}\")\nelse:\n    print(\"도구를 찾을 수 없습니다\")\n\n# 기대 결과: 도구 설명: 특정 주식의 가격 정보를 조회합니다...",
   "metadata": {},
   "execution_count": null,
   "outputs": []
  },
  {
   "cell_type": "markdown",
   "id": "iinsvnaex9b",
   "source": "### 문제 4: yfinance로 주가 가져오기\n\n**목표**: `yfinance`를 사용해서 Apple(AAPL)의 최근 1개월 주가 데이터를 가져오세요.\n\n**힌트**: `yf.Ticker(티커).history(period=기간)`를 사용하세요.",
   "metadata": {}
  },
  {
   "cell_type": "code",
   "id": "rh7bcqtuzyc",
   "source": "import yfinance as yf\n\n# TODO: Apple 주가 데이터 가져오기\nticker = ___  # Apple 티커 심볼 입력\nstock = yf.Ticker(ticker)\nhist = stock.history(period=___)  # 1개월: \"1mo\"\n\nprint(f\"데이터 행 개수: {len(hist)}\")\nprint(f\"최근 종가: {hist['Close'].iloc[-1]:.2f}\")\n\n# 기대 결과: 20~30개 정도의 데이터 행과 최근 종가",
   "metadata": {},
   "execution_count": null,
   "outputs": []
  },
  {
   "cell_type": "markdown",
   "id": "m1bim818j7h",
   "source": "### 문제 5: 최고가와 최저가 찾기\n\n**목표**: Apple(AAPL)의 최근 1개월 데이터에서 최고가와 최저가를 찾으세요.\n\n**힌트**: `.max()`와 `.min()` 메서드를 사용하세요.",
   "metadata": {}
  },
  {
   "cell_type": "code",
   "id": "837hzg9sj54",
   "source": "import yfinance as yf\n\nstock = yf.Ticker(\"AAPL\")\nhist = stock.history(period=\"1mo\")\n\n# TODO: 최고가와 최저가 찾기\nhigh = hist['High'].___()  # 빈칸을 채우세요\nlow = hist['Low'].___()    # 빈칸을 채우세요\n\nprint(f\"최근 1개월 최고가: {high:.2f}\")\nprint(f\"최근 1개월 최저가: {low:.2f}\")\nprint(f\"변동폭: {high - low:.2f}\")\n\n# 기대 결과: 최고가, 최저가, 변동폭이 출력됨",
   "metadata": {},
   "execution_count": null,
   "outputs": []
  },
  {
   "cell_type": "markdown",
   "id": "bzxhmu6tga",
   "source": "### 문제 6: 이동평균선 계산하기\n\n**목표**: Apple(AAPL)의 5일 이동평균을 계산하세요.\n\n**힌트**: `.rolling(window=기간).mean()`을 사용하세요.",
   "metadata": {}
  },
  {
   "cell_type": "code",
   "id": "38v8l6jx6sq",
   "source": "import yfinance as yf\n\nstock = yf.Ticker(\"AAPL\")\nhist = stock.history(period=\"1mo\")\n\n# TODO: 5일 이동평균 계산\nma5 = hist['Close'].rolling(window=___).mean()  # 빈칸을 채우세요\n\nprint(f\"최근 5일 이동평균: {ma5.iloc[-1]:.2f}\")\nprint(f\"현재가: {hist['Close'].iloc[-1]:.2f}\")\n\n# 현재가가 이동평균보다 높으면 상승 추세\nif hist['Close'].iloc[-1] > ma5.iloc[-1]:\n    print(\"신호: 상승 추세\")\nelse:\n    print(\"신호: 하락 추세\")\n\n# 기대 결과: 5일 이동평균과 현재가, 추세 신호",
   "metadata": {},
   "execution_count": null,
   "outputs": []
  },
  {
   "cell_type": "markdown",
   "id": "dgvsiy3lfc",
   "source": "### 문제 7: 간단한 도구 함수 만들기\n\n**목표**: 주식 티커를 받아서 현재가를 반환하는 함수를 만드세요.\n\n**힌트**: 위에서 배운 yfinance 사용법을 함수로 만드세요.",
   "metadata": {}
  },
  {
   "cell_type": "code",
   "id": "is7kjvpbr1f",
   "source": "import yfinance as yf\n\ndef get_current_price(ticker: str) -> float:\n    \"\"\"주식의 현재가를 반환합니다.\"\"\"\n    # TODO: 함수를 완성하세요\n    stock = yf.Ticker(___)  # 빈칸을 채우세요\n    hist = stock.history(period=\"1d\")\n    return hist['Close'].iloc[-1]\n\n# 테스트\nprice = get_current_price(\"AAPL\")\nprint(f\"Apple 현재가: ${price:.2f}\")\n\nprice2 = get_current_price(\"MSFT\")\nprint(f\"Microsoft 현재가: ${price2:.2f}\")\n\n# 기대 결과: Apple과 Microsoft의 현재가 출력",
   "metadata": {},
   "execution_count": null,
   "outputs": []
  },
  {
   "cell_type": "markdown",
   "id": "m8qcpnlam7",
   "source": "### 문제 8: @tool 데코레이터 사용하기\n\n**목표**: 위에서 만든 함수에 `@tool` 데코레이터를 추가하여 Agent가 사용할 수 있는 도구로 만드세요.\n\n**힌트**: `from langchain_core.tools import tool`과 `Annotated`를 사용하세요.",
   "metadata": {}
  },
  {
   "cell_type": "code",
   "id": "g2syqery8ca",
   "source": "from langchain_core.tools import tool\nfrom typing import Annotated\nimport yfinance as yf\n\n# TODO: @tool 데코레이터를 추가하세요\n___  # 빈칸을 채우세요\ndef get_simple_price(ticker: Annotated[str, \"주식 티커 심볼\"]) -> str:\n    \"\"\"주식의 현재가를 조회합니다.\"\"\"\n    stock = yf.Ticker(ticker)\n    hist = stock.history(period=\"1d\")\n    price = hist['Close'].iloc[-1]\n    return f\"{ticker} 현재가: ${price:.2f}\"\n\n# 테스트\nprint(get_simple_price.name)  # 도구 이름 확인\nprint(get_simple_price.description)  # 도구 설명 확인\nresult = get_simple_price.invoke({\"ticker\": \"AAPL\"})\nprint(result)\n\n# 기대 결과: 도구 이름, 설명, Apple 현재가",
   "metadata": {},
   "execution_count": null,
   "outputs": []
  },
  {
   "cell_type": "markdown",
   "id": "nmcbbc4nd6",
   "source": "### 문제 9: ToolAgentState 사용하기\n\n**목표**: `ToolAgentState`를 생성하고, 도구 실행 기록을 추가한 후, 불변 속성을 검증하세요.\n\n**힌트**: `initial_state()`, `ToolExecution`, `add_execution()`, `verify_invariants()`를 사용하세요.",
   "metadata": {}
  },
  {
   "cell_type": "code",
   "id": "vuu5gxn9yth",
   "source": "from python.models.tools import ToolAgentState, ToolHistory, ToolExecution\n\n# TODO: 초기 상태 생성 (최대 3번 호출 가능)\nstate = ToolAgentState.initial_state(\n    query=\"테스트 질문\",\n    max_calls=___  # 빈칸을 채우세요\n)\n\n# TODO: 첫 번째 도구 실행 기록 추가\nexec1 = ToolExecution(\n    tool_name=___,  # \"get_stock_price\" 입력\n    arguments={\"ticker\": \"AAPL\"},\n    result=\"Apple 현재가: $150.00\",\n    call_id=\"call_1\"\n)\nstate.tool_history.add_execution(___)  # 빈칸을 채우세요\n\n# TODO: 두 번째 도구 실행 기록 추가\nexec2 = ToolExecution(\n    tool_name=\"search_web\",\n    arguments={\"query\": \"Apple news\"},\n    result=\"최신 뉴스...\",\n    call_id=\"call_2\"\n)\nstate.tool_history.add_execution(exec2)\n\n# 상태 확인\nprint(f\"도구 호출 횟수: {state.tool_history.total_calls}\")\nprint(f\"더 호출 가능: {state.can_call_more_tools()}\")\nprint(f\"불변 속성 검증: {state.verify_invariants()}\")\n\n# 기대 결과: 호출 횟수 2, 더 호출 가능 True, 검증 True",
   "metadata": {},
   "execution_count": null,
   "outputs": []
  },
  {
   "cell_type": "markdown",
   "id": "jyuy9115ujk",
   "source": "### 문제 10: 나만의 Agent 질문 만들기\n\n**목표**: Agent에게 물어볼 창의적인 투자 분석 질문을 만들고 실행하세요.\n\n**힌트**:\n- 여러 도구를 사용하도록 복합적인 질문을 만드세요.\n- 예: \"회사 정보 + 주가 + 뉴스\" 조합\n\n**추천 질문 예시**:\n- \"Tesla(TSLA)의 기업 정보를 조회하고, 현재가와 50일 이동평균을 비교해줘\"\n- \"Microsoft(MSFT)의 최근 주가와 AI 관련 뉴스를 검색해서 투자 의견 알려줘\"\n- \"Netflix(NFLX)의 재무지표와 최근 실적 뉴스를 분석해줘\"",
   "metadata": {}
  },
  {
   "cell_type": "code",
   "id": "x0fkozk2lo",
   "source": "# TODO: 나만의 질문을 만들어보세요\nmy_question = \"\"\"\n___  # 여기에 질문을 작성하세요\n\"\"\"\n\n# Agent 실행\nresult = run_agent(my_question)\n\n# 기대 결과: Agent가 여러 도구를 사용하여 종합적인 답변 제공",
   "metadata": {},
   "execution_count": null,
   "outputs": []
  },
  {
   "cell_type": "markdown",
   "id": "q2y6z2inyer",
   "source": "---\n\n## 정답 확인\n\n모든 문제를 풀었다면, 아래 셀의 주석을 해제하여 정답을 확인할 수 있습니다.",
   "metadata": {}
  },
  {
   "cell_type": "code",
   "id": "4r6euemvbk",
   "source": "# 정답 예시 (주석 해제하여 확인)\n\n# # 문제 1\n# tool_count = len(AVAILABLE_TOOLS)\n\n# # 문제 2\n# for tool in AVAILABLE_TOOLS:\n#     print(f\"- {tool.name}\")\n\n# # 문제 3\n# tool = find_tool(\"get_stock_price\")\n\n# # 문제 4\n# ticker = \"AAPL\"\n# hist = stock.history(period=\"1mo\")\n\n# # 문제 5\n# high = hist['High'].max()\n# low = hist['Low'].min()\n\n# # 문제 6\n# ma5 = hist['Close'].rolling(window=5).mean()\n\n# # 문제 7\n# stock = yf.Ticker(ticker)\n\n# # 문제 8\n# @tool\n\n# # 문제 9\n# max_calls=3\n# tool_name=\"get_stock_price\"\n# state.tool_history.add_execution(exec1)\n\n# # 문제 10\n# my_question = \"Tesla(TSLA)의 기업 정보를 조회하고, 현재가와 50일 이동평균을 비교해줘\"",
   "metadata": {},
   "execution_count": null,
   "outputs": []
  }
 ],
 "metadata": {
  "kernelspec": {
   "display_name": "Python 3 (ipykernel)",
   "language": "python",
   "name": "python3"
  },
  "language_info": {
   "codemirror_mode": {
    "name": "ipython",
    "version": 3
   },
   "file_extension": ".py",
   "mimetype": "text/x-python",
   "name": "python",
   "nbconvert_exporter": "python",
   "pygments_lexer": "ipython3",
   "version": "3.13.0"
  }
 },
 "nbformat": 4,
 "nbformat_minor": 5
}