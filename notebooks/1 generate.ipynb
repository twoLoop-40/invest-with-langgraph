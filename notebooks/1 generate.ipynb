{
 "cells": [
  {
   "metadata": {},
   "cell_type": "code",
   "outputs": [],
   "execution_count": null,
   "source": [
    "# 패키지\n",
    "# %pip install -q python-dotenv langchain-openai langgraph langchain-community\n"
   ],
   "id": "445cc3a0e82ae14b"
  },
  {
   "cell_type": "code",
   "id": "initial_id",
   "metadata": {
    "collapsed": true,
    "ExecuteTime": {
     "end_time": "2025-07-13T08:26:52.233863Z",
     "start_time": "2025-07-13T08:26:52.229263Z"
    }
   },
   "source": [
    "from dotenv import load_dotenv\n",
    "\n",
    "load_dotenv()"
   ],
   "outputs": [
    {
     "data": {
      "text/plain": [
       "True"
      ]
     },
     "execution_count": 13,
     "metadata": {},
     "output_type": "execute_result"
    }
   ],
   "execution_count": 13
  },
  {
   "metadata": {
    "ExecuteTime": {
     "end_time": "2025-07-13T08:26:59.375735Z",
     "start_time": "2025-07-13T08:26:53.987343Z"
    }
   },
   "cell_type": "code",
   "source": [
    "# 간단한 질문 테스트\n",
    "from langchain_openai import ChatOpenAI\n",
    "\n",
    "query = 'llm과 같이 주식 투자하는거 어떨까요?'\n",
    "#\n",
    "llm = ChatOpenAI(model='gpt-4o-mini') # 작은 모델\n",
    "llm.invoke(query)\n"
   ],
   "id": "2a2190a4e346fcc0",
   "outputs": [
    {
     "data": {
      "text/plain": [
       "AIMessage(content='LLM(대규모 언어 모델)을 사용하여 주식 투자에 접근하는 것은 흥미로운 아이디어입니다. LLM은 광범위한 데이터와 패턴을 분석하고 정보를 제공하는 데 유용할 수 있습니다. 하지만 몇 가지 고려사항이 있습니다.\\n\\n1. **정보 분석**: LLM은 과거 데이터와 뉴스, 금융 보고서 등을 기반으로 정보를 분석할 수 있습니다. 이를 통해 특정 회사나 산업에 대한 통찰력을 제공받을 수 있습니다.\\n\\n2. **리스크 관리**: 주식 시장은 변동성이 크고 예측하기 어려운 요소가 많습니다. LLM의 분석 결과를 맹신하기보다는 여러 가지 정보를 종합하여 판단하는 것이 중요합니다.\\n\\n3. **최신 정보 반영**: LLM은 훈련된 데이터에 기반하므로 최신 시장 동향이나 사건을 반영하기 어려운 경우가 많습니다. 따라서 LLM의 정보를 사용할 때는 항상 현재의 시장 상황과 최신 뉴스를 확인하는 것이 좋습니다.\\n\\n4. **심리적 요소**: 주식 투자는 종종 투자자의 감정과 심리가 크게 작용합니다. LLM은 데이터 기반으로 분석하지만 인간의 감정적 요소를 완전히 이해하거나 반영하지 못할 수 있습니다.\\n\\n5. **결과 검증**: LLM을 통해 얻은 투자 전략이나 조언은 실제로 검증해보고, 성과를 분석하는 과정이 필요합니다.\\n\\n결론적으로, LLM과 함께 주식 투자하는 것은 유익할 수 있지만, 다른 여러 요소와 정보를 함께 고려하여 신중하게 접근하는 것이 중요합니다.', additional_kwargs={'refusal': None}, response_metadata={'token_usage': {'completion_tokens': 345, 'prompt_tokens': 20, 'total_tokens': 365, 'completion_tokens_details': {'accepted_prediction_tokens': 0, 'audio_tokens': 0, 'reasoning_tokens': 0, 'rejected_prediction_tokens': 0}, 'prompt_tokens_details': {'audio_tokens': 0, 'cached_tokens': 0}}, 'model_name': 'gpt-4o-mini-2024-07-18', 'system_fingerprint': None, 'id': 'chatcmpl-BsmKsmCFsacKCiUEH9m0fXTAx7cBq', 'service_tier': 'default', 'finish_reason': 'stop', 'logprobs': None}, id='run--d606a3f5-04e3-488c-8412-5ed43fa8a613-0', usage_metadata={'input_tokens': 20, 'output_tokens': 345, 'total_tokens': 365, 'input_token_details': {'audio': 0, 'cache_read': 0}, 'output_token_details': {'audio': 0, 'reasoning': 0}})"
      ]
     },
     "execution_count": 14,
     "metadata": {},
     "output_type": "execute_result"
    }
   ],
   "execution_count": 14
  },
  {
   "metadata": {
    "ExecuteTime": {
     "end_time": "2025-07-13T08:30:09.675027Z",
     "start_time": "2025-07-13T08:30:09.671098Z"
    }
   },
   "cell_type": "code",
   "source": [
    "# State 생성\n",
    "from typing import Annotated\n",
    "from typing_extensions import TypedDict\n",
    "\n",
    "from langgraph.graph.message import add_messages\n",
    "from langchain_core.messages import AnyMessage\n",
    "\n",
    "class AgentState(TypedDict):\n",
    "    messages: Annotated[list[AnyMessage], add_messages]"
   ],
   "id": "3ce93ec31f0af6f",
   "outputs": [],
   "execution_count": 15
  },
  {
   "metadata": {
    "ExecuteTime": {
     "end_time": "2025-07-13T08:30:10.239787Z",
     "start_time": "2025-07-13T08:30:10.236747Z"
    }
   },
   "cell_type": "code",
   "source": [
    "from langgraph.graph import StateGraph\n",
    "graph_builder = StateGraph(AgentState)"
   ],
   "id": "f589c183dc486a01",
   "outputs": [],
   "execution_count": 16
  },
  {
   "metadata": {
    "ExecuteTime": {
     "end_time": "2025-07-13T08:30:11.784392Z",
     "start_time": "2025-07-13T08:30:11.781010Z"
    }
   },
   "cell_type": "code",
   "source": [
    "def generate(state: AgentState) -> AgentState:\n",
    "    \"\"\"\n",
    "    Generates a new state for the agent based on the given state.\n",
    "\n",
    "    This function takes an existing state of an agent and processes it\n",
    "    to generate a new state. The transformation from the input state\n",
    "    to the output state adheres to specific rules or logic defined in\n",
    "    the function.\n",
    "\n",
    "    :param state: The current state of the agent.\n",
    "    :type state: AgentState\n",
    "    :return: A new state derived from the input state.\n",
    "    :rtype: AgentState\n",
    "    \"\"\"\n",
    "    messages = state['messages']\n",
    "    ai_message = llm.invoke(messages[-1].content)\n",
    "    return {'messages': [ai_message]}"
   ],
   "id": "85cfa409c3e17802",
   "outputs": [],
   "execution_count": 17
  },
  {
   "metadata": {
    "ExecuteTime": {
     "end_time": "2025-07-13T08:30:21.759840Z",
     "start_time": "2025-07-13T08:30:21.755332Z"
    }
   },
   "cell_type": "code",
   "source": "graph_builder.add_node('generate', generate)\n",
   "id": "5e58a983787b7df0",
   "outputs": [
    {
     "data": {
      "text/plain": [
       "<langgraph.graph.state.StateGraph at 0x10e053ed0>"
      ]
     },
     "execution_count": 18,
     "metadata": {},
     "output_type": "execute_result"
    }
   ],
   "execution_count": 18
  },
  {
   "metadata": {
    "ExecuteTime": {
     "end_time": "2025-07-13T08:30:38.735870Z",
     "start_time": "2025-07-13T08:30:38.731612Z"
    }
   },
   "cell_type": "code",
   "source": [
    "from langgraph.graph import START, END\n",
    "\n",
    "graph_builder.add_edge(START, 'generate')\n",
    "graph_builder.add_edge('generate', END)\n"
   ],
   "id": "e8ade31d439651a5",
   "outputs": [
    {
     "data": {
      "text/plain": [
       "<langgraph.graph.state.StateGraph at 0x10e053ed0>"
      ]
     },
     "execution_count": 19,
     "metadata": {},
     "output_type": "execute_result"
    }
   ],
   "execution_count": 19
  },
  {
   "metadata": {
    "ExecuteTime": {
     "end_time": "2025-07-13T07:42:29.342406Z",
     "start_time": "2025-07-13T07:42:29.339240Z"
    }
   },
   "cell_type": "code",
   "source": "graph = graph_builder.compile()",
   "id": "b7efd22f4ce9f05e",
   "outputs": [],
   "execution_count": 8
  },
  {
   "metadata": {
    "ExecuteTime": {
     "end_time": "2025-07-13T08:31:17.981342Z",
     "start_time": "2025-07-13T08:31:17.439447Z"
    }
   },
   "cell_type": "code",
   "source": [
    "from IPython.display import display, Image\n",
    "\n",
    "display(Image(graph.get_graph().draw_mermaid_png()))"
   ],
   "id": "fe6c8350422e4ef6",
   "outputs": [
    {
     "data": {
      "image/png": "[encoded data removed]",
      "text/plain": [
       "<IPython.core.display.Image object>"
      ]
     },
     "metadata": {},
     "output_type": "display_data"
    }
   ],
   "execution_count": 20
  },
  {
   "metadata": {
    "ExecuteTime": {
     "end_time": "2025-07-13T08:31:52.528210Z",
     "start_time": "2025-07-13T08:31:47.821552Z"
    }
   },
   "cell_type": "code",
   "source": [
    "from langchain_core.messages import HumanMessage\n",
    "\n",
    "query=\"현재 2025년 7월에 삼성전자 주식에 투자하는 건 어떨까?\"\n",
    "initial_state={'messages': [HumanMessage(query)]}\n",
    "graph.invoke(initial_state)"
   ],
   "id": "747711ece48ad42",
   "outputs": [
    {
     "data": {
      "text/plain": [
       "{'messages': [HumanMessage(content='현재 2025년 7월에 삼성전자 주식에 투자하는 건 어떨까?', additional_kwargs={}, response_metadata={}, id='0dc55645-247d-40c6-b114-332446c6e0fc'),\n",
       "  AIMessage(content='2025년 7월에 삼성전자 주식에 투자하는 것에 대한 결정을 하려면 여러 가지 요소를 고려해야 합니다. 기본적으로 다음과 같은 사항들을 검토하는 것이 좋습니다:\\n\\n1. **재무 성과**: 삼성전자의 최근 재무 성과와 미래 성장 가능성을 분석해야 합니다. 매출, 이익, 부채 비율 및 주가 수익 비율(PER) 등을 고려해보세요.\\n\\n2. **산업 동향**: 반도체, 전자제품, 모바일 기기 등 삼성전자가 주요 사업을 하고 있는 분야의 시장 동향 및 경쟁 상황을 분석할 필요가 있습니다.\\n\\n3. **글로벌 경제 상황**: 2025년의 글로벌 경제 전망과 지정학적 리스크, 통화 정책 등을 고려해야 합니다. 이러한 요소들은 주가에 큰 영향을 미칠 수 있습니다.\\n\\n4. **기술 혁신**: 삼성전자는 기술 혁신에 적극적으로 투자하고 있으므로, 새로운 제품이나 기술 개발 계획이 향후 주가에 어떻게 영향을 미칠지 분석해야 합니다.\\n\\n5. **전문가 의견 및 분석**: 금융 전문가나 애널리스트의 의견 및 연구 보고서를 참고하는 것도 좋은 방법입니다. 그들의 전망이 여러분의 투자 결정에 어떤 영향을 미칠 수 있는지를 고려하세요.\\n\\n6. **개인 투자 목표**: 자신의 투자 목표, 기간, 리스크 수용 능력 등을 명확히 하고 이에 맞는 결정을 내리는 것이 중요합니다.\\n\\n미래의 주식 투자에 대해 예측하는 것은 본질적으로 불확실성을 동반하므로, 신중한 접근이 필요합니다. 전문가와 상담하거나 전문 자료를 참고하면서 결정을 내리는 것이 좋습니다.', additional_kwargs={'refusal': None}, response_metadata={'token_usage': {'completion_tokens': 365, 'prompt_tokens': 28, 'total_tokens': 393, 'completion_tokens_details': {'accepted_prediction_tokens': 0, 'audio_tokens': 0, 'reasoning_tokens': 0, 'rejected_prediction_tokens': 0}, 'prompt_tokens_details': {'audio_tokens': 0, 'cached_tokens': 0}}, 'model_name': 'gpt-4o-mini-2024-07-18', 'system_fingerprint': 'fp_34a54ae93c', 'id': 'chatcmpl-BsmPc2x12as7rBHQOJMoFVopWQkHA', 'service_tier': 'default', 'finish_reason': 'stop', 'logprobs': None}, id='run--4ae8a3c9-1ae4-435d-8808-14236676ec74-0', usage_metadata={'input_tokens': 28, 'output_tokens': 365, 'total_tokens': 393, 'input_token_details': {'audio': 0, 'cache_read': 0}, 'output_token_details': {'audio': 0, 'reasoning': 0}})]}"
      ]
     },
     "execution_count": 21,
     "metadata": {},
     "output_type": "execute_result"
    }
   ],
   "execution_count": 21
  },
  {
   "metadata": {},
   "cell_type": "code",
   "outputs": [],
   "execution_count": null,
   "source": "",
   "id": "1ae90b5e00e547c6"
  }
 ],
 "metadata": {
  "kernelspec": {
   "display_name": "Python 3",
   "language": "python",
   "name": "python3"
  },
  "language_info": {
   "codemirror_mode": {
    "name": "ipython",
    "version": 2
   },
   "file_extension": ".py",
   "mimetype": "text/x-python",
   "name": "python",
   "nbconvert_exporter": "python",
   "pygments_lexer": "ipython2",
   "version": "2.7.6"
  }
 },
 "nbformat": 4,
 "nbformat_minor": 5
}
