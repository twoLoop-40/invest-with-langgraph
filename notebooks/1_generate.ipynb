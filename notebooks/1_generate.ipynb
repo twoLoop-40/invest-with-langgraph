{
 "cells": [
  {
   "cell_type": "markdown",
   "id": "r1d1a8ab0ta",
   "source": "# LangGraph 기초: 간단한 질의응답 Agent 만들기\n\n## 학습 목표\n이 노트북에서는 LangGraph의 기본 개념을 배웁니다:\n- LangChain의 ChatOpenAI를 사용한 LLM 호출\n- StateGraph를 이용한 워크플로우 구성\n- 노드(Node)와 엣지(Edge)의 개념\n- 그래프 실행 및 결과 확인\n\n## 사전 준비\n- `.env` 파일에 `OPENAI_API_KEY` 설정 필요\n- Python 3.13 이상 환경",
   "metadata": {}
  },
  {
   "cell_type": "markdown",
   "id": "53ltxdkb7my",
   "source": "## 1. 환경 변수 로드\n\n### 이론\n`python-dotenv` 라이브러리는 `.env` 파일에서 환경 변수를 읽어옵니다.\nAPI 키와 같은 민감한 정보를 코드에 직접 작성하지 않고 안전하게 관리할 수 있습니다.\n\n### 코드 설명\n- `load_dotenv()`: `.env` 파일의 내용을 환경 변수로 로드\n- 성공하면 `True` 반환",
   "metadata": {}
  },
  {
   "cell_type": "markdown",
   "id": "hi5vtii4y3",
   "source": "## 2. LLM 기본 사용법\n\n### 이론\n**LLM (Large Language Model)**은 대규모 언어 모델입니다.\n- OpenAI의 GPT 시리즈가 대표적\n- `gpt-4o-mini`: 빠르고 저렴한 소형 모델 (이 예제에서 사용)\n- `gpt-4`: 더 강력하지만 비용이 높은 모델\n\n**LangChain의 ChatOpenAI**:\n- OpenAI API를 쉽게 사용할 수 있는 래퍼 클래스\n- `.invoke()`로 질문을 전달하고 답변을 받음\n\n### 코드 설명\n- `ChatOpenAI(model='gpt-4o-mini')`: LLM 인스턴스 생성\n- `llm.invoke(query)`: 질문 전달 및 답변 받기\n- 결과: `AIMessage` 객체 (content에 실제 답변 텍스트)",
   "metadata": {}
  },
  {
   "cell_type": "markdown",
   "id": "0gx28phxg62b",
   "source": "## 3. Agent 상태(State) 정의\n\n### 이론\n**State (상태)**는 Agent가 실행되는 동안 유지되는 데이터입니다.\n- LangGraph는 각 노드가 상태를 읽고 수정하면서 동작\n- `TypedDict`: 타입 힌트가 있는 딕셔너리 (Python 3.8+)\n\n**메시지 누적**:\n- `Annotated[list[AnyMessage], add_messages]`:\n  - 메시지 리스트를 자동으로 누적 (기존 메시지에 새 메시지 추가)\n  - 대화 히스토리를 유지하는 핵심 메커니즘\n\n### 코드 설명\n- `AgentState`: 우리 Agent의 상태를 정의하는 클래스\n- `messages`: 사용자 메시지와 AI 답변을 담는 리스트\n- `add_messages`: LangGraph가 제공하는 메시지 누적 함수",
   "metadata": {}
  },
  {
   "cell_type": "markdown",
   "id": "toqdifxn0gr",
   "source": "## 4. StateGraph 생성\n\n### 이론\n**StateGraph**는 LangGraph의 핵심 클래스입니다.\n- 노드(Node)와 엣지(Edge)로 구성된 워크플로우 그래프\n- 각 노드는 상태를 읽고 수정하는 함수\n- 엣지는 노드 간의 연결(실행 순서)\n\n### 코드 설명\n- `StateGraph(AgentState)`: AgentState를 사용하는 그래프 생성\n- `graph_builder`: 그래프를 구성할 빌더 객체",
   "metadata": {}
  },
  {
   "cell_type": "markdown",
   "id": "pgkstu397rf",
   "source": "## 5. 노드 함수 정의\n\n### 이론\n**노드(Node)**는 그래프에서 실행되는 작업 단위입니다.\n- 입력: 현재 `AgentState`\n- 출력: 업데이트할 상태 (딕셔너리)\n- 반환된 딕셔너리는 기존 상태와 병합됨\n\n**generate 노드의 역할**:\n1. 상태에서 마지막 메시지 가져오기\n2. LLM으로 답변 생성\n3. 생성된 답변을 상태에 추가\n\n### 코드 설명\n- `state['messages']`: 현재 대화 히스토리\n- `messages[-1].content`: 가장 최근 메시지 내용\n- `llm.invoke()`: LLM에 메시지 전달\n- `return {'messages': [ai_message]}`: 새 메시지를 상태에 추가",
   "metadata": {}
  },
  {
   "cell_type": "markdown",
   "id": "n7gdhqeuds",
   "source": "## 6. 그래프에 노드 추가\n\n### 이론\n**노드 추가**는 그래프에 실행 가능한 작업을 등록하는 과정입니다.\n- `add_node(이름, 함수)`: 노드를 그래프에 추가\n- 노드 이름은 엣지 연결 시 사용됩니다.\n\n### 코드 설명\n- `'generate'`: 노드의 이름 (문자열)\n- `generate`: 앞서 정의한 노드 함수\n- 이제 이 노드는 그래프 내에서 'generate'라는 이름으로 사용 가능",
   "metadata": {}
  },
  {
   "cell_type": "markdown",
   "id": "z4aczpl4d8j",
   "source": "## 7. 엣지(Edge) 연결\n\n### 이론\n**엣지(Edge)**는 노드 간의 연결을 정의합니다.\n- `START`: 그래프의 시작점 (특수 노드)\n- `END`: 그래프의 종료점 (특수 노드)\n- 엣지는 실행 흐름을 결정\n\n**실행 흐름**:\n```\nSTART → generate → END\n```\n\n### 코드 설명\n- `add_edge(START, 'generate')`: 시작하자마자 generate 노드 실행\n- `add_edge('generate', END)`: generate 완료 후 종료",
   "metadata": {}
  },
  {
   "cell_type": "markdown",
   "id": "ipyoll8bfqp",
   "source": "## 8. 그래프 컴파일\n\n### 이론\n**컴파일(Compile)**은 그래프를 실행 가능한 형태로 변환합니다.\n- 노드와 엣지의 연결 검증\n- 실행 가능한 runnable 객체 생성\n\n### 코드 설명\n- `compile()`: 그래프를 컴파일하여 실행 가능한 객체 반환\n- 이제 `graph.invoke()`로 실행 가능",
   "metadata": {}
  },
  {
   "cell_type": "markdown",
   "id": "rzbhy54est",
   "source": "## 9. 그래프 시각화\n\n### 코드 설명\n- `get_graph().draw_mermaid_png()`: 그래프를 Mermaid 다이어그램으로 시각화\n- 노드 간의 연결 관계를 그림으로 확인 가능",
   "metadata": {}
  },
  {
   "cell_type": "markdown",
   "id": "xhmt0jdvxcp",
   "source": "## 10. 그래프 실행 테스트\n\n### 이론\n**그래프 실행 방법**:\n1. 초기 상태 생성 (사용자 메시지 포함)\n2. `graph.invoke(초기_상태)` 호출\n3. 결과에서 최종 상태 확인\n\n### 코드 설명\n- `HumanMessage(query)`: 사용자 메시지 객체 생성\n- `initial_state`: 초기 대화 상태\n- `graph.invoke()`: 그래프 실행\n- 결과의 `messages`에 사용자 메시지 + AI 답변 포함",
   "metadata": {}
  },
  {
   "metadata": {},
   "cell_type": "code",
   "outputs": [],
   "execution_count": null,
   "source": [
    "# 패키지\n",
    "# %pip install -q python-dotenv langchain-openai langgraph langchain-community\n"
   ],
   "id": "445cc3a0e82ae14b"
  },
  {
   "cell_type": "code",
   "id": "initial_id",
   "metadata": {
    "collapsed": true,
    "ExecuteTime": {
     "end_time": "2025-07-13T08:26:52.233863Z",
     "start_time": "2025-07-13T08:26:52.229263Z"
    }
   },
   "source": [
    "from dotenv import load_dotenv\n",
    "\n",
    "load_dotenv()"
   ],
   "outputs": [
    {
     "data": {
      "text/plain": [
       "True"
      ]
     },
     "execution_count": 13,
     "metadata": {},
     "output_type": "execute_result"
    }
   ],
   "execution_count": 13
  },
  {
   "metadata": {
    "ExecuteTime": {
     "end_time": "2025-07-13T08:26:59.375735Z",
     "start_time": "2025-07-13T08:26:53.987343Z"
    }
   },
   "cell_type": "code",
   "source": [
    "# 간단한 질문 테스트\n",
    "from langchain_openai import ChatOpenAI\n",
    "\n",
    "query = 'llm과 같이 주식 투자하는거 어떨까요?'\n",
    "#\n",
    "llm = ChatOpenAI(model='gpt-4o-mini') # 작은 모델\n",
    "llm.invoke(query)\n"
   ],
   "id": "2a2190a4e346fcc0",
   "outputs": [
    {
     "data": {
      "text/plain": [
       "AIMessage(content='LLM(대규모 언어 모델)을 사용하여 주식 투자에 접근하는 것은 흥미로운 아이디어입니다. LLM은 광범위한 데이터와 패턴을 분석하고 정보를 제공하는 데 유용할 수 있습니다. 하지만 몇 가지 고려사항이 있습니다.\\n\\n1. **정보 분석**: LLM은 과거 데이터와 뉴스, 금융 보고서 등을 기반으로 정보를 분석할 수 있습니다. 이를 통해 특정 회사나 산업에 대한 통찰력을 제공받을 수 있습니다.\\n\\n2. **리스크 관리**: 주식 시장은 변동성이 크고 예측하기 어려운 요소가 많습니다. LLM의 분석 결과를 맹신하기보다는 여러 가지 정보를 종합하여 판단하는 것이 중요합니다.\\n\\n3. **최신 정보 반영**: LLM은 훈련된 데이터에 기반하므로 최신 시장 동향이나 사건을 반영하기 어려운 경우가 많습니다. 따라서 LLM의 정보를 사용할 때는 항상 현재의 시장 상황과 최신 뉴스를 확인하는 것이 좋습니다.\\n\\n4. **심리적 요소**: 주식 투자는 종종 투자자의 감정과 심리가 크게 작용합니다. LLM은 데이터 기반으로 분석하지만 인간의 감정적 요소를 완전히 이해하거나 반영하지 못할 수 있습니다.\\n\\n5. **결과 검증**: LLM을 통해 얻은 투자 전략이나 조언은 실제로 검증해보고, 성과를 분석하는 과정이 필요합니다.\\n\\n결론적으로, LLM과 함께 주식 투자하는 것은 유익할 수 있지만, 다른 여러 요소와 정보를 함께 고려하여 신중하게 접근하는 것이 중요합니다.', additional_kwargs={'refusal': None}, response_metadata={'token_usage': {'completion_tokens': 345, 'prompt_tokens': 20, 'total_tokens': 365, 'completion_tokens_details': {'accepted_prediction_tokens': 0, 'audio_tokens': 0, 'reasoning_tokens': 0, 'rejected_prediction_tokens': 0}, 'prompt_tokens_details': {'audio_tokens': 0, 'cached_tokens': 0}}, 'model_name': 'gpt-4o-mini-2024-07-18', 'system_fingerprint': None, 'id': 'chatcmpl-BsmKsmCFsacKCiUEH9m0fXTAx7cBq', 'service_tier': 'default', 'finish_reason': 'stop', 'logprobs': None}, id='run--d606a3f5-04e3-488c-8412-5ed43fa8a613-0', usage_metadata={'input_tokens': 20, 'output_tokens': 345, 'total_tokens': 365, 'input_token_details': {'audio': 0, 'cache_read': 0}, 'output_token_details': {'audio': 0, 'reasoning': 0}})"
      ]
     },
     "execution_count": 14,
     "metadata": {},
     "output_type": "execute_result"
    }
   ],
   "execution_count": 14
  },
  {
   "metadata": {
    "ExecuteTime": {
     "end_time": "2025-07-13T08:30:09.675027Z",
     "start_time": "2025-07-13T08:30:09.671098Z"
    }
   },
   "cell_type": "code",
   "source": [
    "# State 생성\n",
    "from typing import Annotated\n",
    "from typing_extensions import TypedDict\n",
    "\n",
    "from langgraph.graph.message import add_messages\n",
    "from langchain_core.messages import AnyMessage\n",
    "\n",
    "class AgentState(TypedDict):\n",
    "    messages: Annotated[list[AnyMessage], add_messages]"
   ],
   "id": "3ce93ec31f0af6f",
   "outputs": [],
   "execution_count": 15
  },
  {
   "metadata": {
    "ExecuteTime": {
     "end_time": "2025-07-13T08:30:10.239787Z",
     "start_time": "2025-07-13T08:30:10.236747Z"
    }
   },
   "cell_type": "code",
   "source": [
    "from langgraph.graph import StateGraph\n",
    "graph_builder = StateGraph(AgentState)"
   ],
   "id": "f589c183dc486a01",
   "outputs": [],
   "execution_count": 16
  },
  {
   "metadata": {
    "ExecuteTime": {
     "end_time": "2025-07-13T08:30:11.784392Z",
     "start_time": "2025-07-13T08:30:11.781010Z"
    }
   },
   "cell_type": "code",
   "source": [
    "def generate(state: AgentState) -> AgentState:\n",
    "    \"\"\"\n",
    "    Generates a new state for the agent based on the given state.\n",
    "\n",
    "    This function takes an existing state of an agent and processes it\n",
    "    to generate a new state. The transformation from the input state\n",
    "    to the output state adheres to specific rules or logic defined in\n",
    "    the function.\n",
    "\n",
    "    :param state: The current state of the agent.\n",
    "    :type state: AgentState\n",
    "    :return: A new state derived from the input state.\n",
    "    :rtype: AgentState\n",
    "    \"\"\"\n",
    "    messages = state['messages']\n",
    "    ai_message = llm.invoke(messages[-1].content)\n",
    "    return {'messages': [ai_message]}"
   ],
   "id": "85cfa409c3e17802",
   "outputs": [],
   "execution_count": 17
  },
  {
   "metadata": {
    "ExecuteTime": {
     "end_time": "2025-07-13T08:30:21.759840Z",
     "start_time": "2025-07-13T08:30:21.755332Z"
    }
   },
   "cell_type": "code",
   "source": "graph_builder.add_node('generate', generate)\n",
   "id": "5e58a983787b7df0",
   "outputs": [
    {
     "data": {
      "text/plain": [
       "<langgraph.graph.state.StateGraph at 0x10e053ed0>"
      ]
     },
     "execution_count": 18,
     "metadata": {},
     "output_type": "execute_result"
    }
   ],
   "execution_count": 18
  },
  {
   "metadata": {
    "ExecuteTime": {
     "end_time": "2025-07-13T08:30:38.735870Z",
     "start_time": "2025-07-13T08:30:38.731612Z"
    }
   },
   "cell_type": "code",
   "source": [
    "from langgraph.graph import START, END\n",
    "\n",
    "graph_builder.add_edge(START, 'generate')\n",
    "graph_builder.add_edge('generate', END)\n"
   ],
   "id": "e8ade31d439651a5",
   "outputs": [
    {
     "data": {
      "text/plain": [
       "<langgraph.graph.state.StateGraph at 0x10e053ed0>"
      ]
     },
     "execution_count": 19,
     "metadata": {},
     "output_type": "execute_result"
    }
   ],
   "execution_count": 19
  },
  {
   "cell_type": "markdown",
   "id": "8n8nsp4ew17",
   "source": "## 실습 문제\n\n아래 3개의 문제를 순서대로 풀어보세요. LangGraph 기본 사용법을 익히는 데 도움이 됩니다.",
   "metadata": {}
  },
  {
   "metadata": {
    "ExecuteTime": {
     "end_time": "2025-07-13T07:42:29.342406Z",
     "start_time": "2025-07-13T07:42:29.339240Z"
    }
   },
   "cell_type": "code",
   "source": "graph = graph_builder.compile()",
   "id": "b7efd22f4ce9f05e",
   "outputs": [],
   "execution_count": 8
  },
  {
   "metadata": {
    "ExecuteTime": {
     "end_time": "2025-07-13T08:31:17.981342Z",
     "start_time": "2025-07-13T08:31:17.439447Z"
    }
   },
   "cell_type": "code",
   "source": [
    "from IPython.display import display, Image\n",
    "\n",
    "display(Image(graph.get_graph().draw_mermaid_png()))"
   ],
   "id": "fe6c8350422e4ef6",
   "outputs": [
    {
     "data": {
      "image/png": "[encoded data removed]",
      "text/plain": [
       "<IPython.core.display.Image object>"
      ]
     },
     "metadata": {},
     "output_type": "display_data"
    }
   ],
   "execution_count": 20
  },
  {
   "metadata": {
    "ExecuteTime": {
     "end_time": "2025-07-13T08:31:52.528210Z",
     "start_time": "2025-07-13T08:31:47.821552Z"
    }
   },
   "cell_type": "code",
   "source": [
    "from langchain_core.messages import HumanMessage\n",
    "\n",
    "query=\"현재 2025년 7월에 삼성전자 주식에 투자하는 건 어떨까?\"\n",
    "initial_state={'messages': [HumanMessage(query)]}\n",
    "graph.invoke(initial_state)"
   ],
   "id": "747711ece48ad42",
   "outputs": [
    {
     "data": {
      "text/plain": [
       "{'messages': [HumanMessage(content='현재 2025년 7월에 삼성전자 주식에 투자하는 건 어떨까?', additional_kwargs={}, response_metadata={}, id='0dc55645-247d-40c6-b114-332446c6e0fc'),\n",
       "  AIMessage(content='2025년 7월에 삼성전자 주식에 투자하는 것에 대한 결정을 하려면 여러 가지 요소를 고려해야 합니다. 기본적으로 다음과 같은 사항들을 검토하는 것이 좋습니다:\\n\\n1. **재무 성과**: 삼성전자의 최근 재무 성과와 미래 성장 가능성을 분석해야 합니다. 매출, 이익, 부채 비율 및 주가 수익 비율(PER) 등을 고려해보세요.\\n\\n2. **산업 동향**: 반도체, 전자제품, 모바일 기기 등 삼성전자가 주요 사업을 하고 있는 분야의 시장 동향 및 경쟁 상황을 분석할 필요가 있습니다.\\n\\n3. **글로벌 경제 상황**: 2025년의 글로벌 경제 전망과 지정학적 리스크, 통화 정책 등을 고려해야 합니다. 이러한 요소들은 주가에 큰 영향을 미칠 수 있습니다.\\n\\n4. **기술 혁신**: 삼성전자는 기술 혁신에 적극적으로 투자하고 있으므로, 새로운 제품이나 기술 개발 계획이 향후 주가에 어떻게 영향을 미칠지 분석해야 합니다.\\n\\n5. **전문가 의견 및 분석**: 금융 전문가나 애널리스트의 의견 및 연구 보고서를 참고하는 것도 좋은 방법입니다. 그들의 전망이 여러분의 투자 결정에 어떤 영향을 미칠 수 있는지를 고려하세요.\\n\\n6. **개인 투자 목표**: 자신의 투자 목표, 기간, 리스크 수용 능력 등을 명확히 하고 이에 맞는 결정을 내리는 것이 중요합니다.\\n\\n미래의 주식 투자에 대해 예측하는 것은 본질적으로 불확실성을 동반하므로, 신중한 접근이 필요합니다. 전문가와 상담하거나 전문 자료를 참고하면서 결정을 내리는 것이 좋습니다.', additional_kwargs={'refusal': None}, response_metadata={'token_usage': {'completion_tokens': 365, 'prompt_tokens': 28, 'total_tokens': 393, 'completion_tokens_details': {'accepted_prediction_tokens': 0, 'audio_tokens': 0, 'reasoning_tokens': 0, 'rejected_prediction_tokens': 0}, 'prompt_tokens_details': {'audio_tokens': 0, 'cached_tokens': 0}}, 'model_name': 'gpt-4o-mini-2024-07-18', 'system_fingerprint': 'fp_34a54ae93c', 'id': 'chatcmpl-BsmPc2x12as7rBHQOJMoFVopWQkHA', 'service_tier': 'default', 'finish_reason': 'stop', 'logprobs': None}, id='run--4ae8a3c9-1ae4-435d-8808-14236676ec74-0', usage_metadata={'input_tokens': 28, 'output_tokens': 365, 'total_tokens': 393, 'input_token_details': {'audio': 0, 'cache_read': 0}, 'output_token_details': {'audio': 0, 'reasoning': 0}})]}"
      ]
     },
     "execution_count": 21,
     "metadata": {},
     "output_type": "execute_result"
    }
   ],
   "execution_count": 21
  },
  {
   "cell_type": "code",
   "id": "446qb5nyjm8",
   "source": "# TODO: LLM에게 질문하기\nmy_question = ___  # \"주식 투자의 장점은 무엇인가요?\" 입력\nresponse = llm.invoke(___)  # 빈칸을 채우세요\n\nprint(f\"질문: {my_question}\")\nprint(f\"답변: {response.content[:150]}...\")  # 처음 150자만 출력\n\n# 기대 결과: LLM이 생성한 주식 투자의 장점에 대한 설명",
   "metadata": {},
   "execution_count": null,
   "outputs": []
  },
  {
   "cell_type": "code",
   "id": "ftvofweg2i8",
   "source": "# TODO: 노드 함수 완성하기\ndef my_generate_node(state: AgentState) -> AgentState:\n    \"\"\"사용자 메시지를 받아서 LLM으로 답변 생성\"\"\"\n    messages = state[___]  # 빈칸을 채우세요 ('messages')\n    last_message = messages[-1]\n    \n    # LLM으로 답변 생성\n    ai_response = llm.invoke(___)  # 빈칸을 채우세요 (last_message.content)\n    \n    return {___: [ai_response]}  # 빈칸을 채우세요 ('messages')\n\n# 테스트\nfrom langchain_core.messages import HumanMessage\ntest_state = {'messages': [HumanMessage(content=\"안녕하세요\")]}\nresult = my_generate_node(test_state)\nprint(f\"생성된 답변: {result['messages'][0].content[:100]}...\")\n\n# 기대 결과: LLM이 생성한 인사 답변",
   "metadata": {},
   "execution_count": null,
   "outputs": []
  },
  {
   "cell_type": "code",
   "id": "7ezpevnqhch",
   "source": "# TODO: 나만의 질문으로 그래프 실행\nfrom langchain_core.messages import HumanMessage\n\nmy_own_question = ___  # 여기에 질문을 작성하세요\ninitial_state = {___: [HumanMessage(my_own_question)]}  # 빈칸을 채우세요 ('messages')\n\nprint(f\"질문: {my_own_question}\")\nprint(\"=\"*70)\n\n# 그래프 실행\nresult = graph.invoke(___)  # 빈칸을 채우세요 (initial_state)\n\n# 결과 출력\nfinal_answer = result['messages'][-1].content\nprint(f\"답변:\\n{final_answer}\")\n\n# 기대 결과: 질문에 대한 LLM의 답변",
   "metadata": {},
   "execution_count": null,
   "outputs": []
  },
  {
   "cell_type": "code",
   "id": "a4in6p8mz1s",
   "source": "# 정답 예시 (주석 해제하여 확인)\n\n# # 문제 1\n# my_question = \"주식 투자의 장점은 무엇인가요?\"\n# response = llm.invoke(my_question)\n\n# # 문제 2\n# def my_generate_node(state: AgentState) -> AgentState:\n#     messages = state['messages']\n#     last_message = messages[-1]\n#     ai_response = llm.invoke(last_message.content)\n#     return {'messages': [ai_response]}\n\n# # 문제 3\n# my_own_question = \"주식 투자 초보자를 위한 조언은?\"\n# initial_state = {'messages': [HumanMessage(my_own_question)]}\n# result = graph.invoke(initial_state)",
   "metadata": {},
   "execution_count": null,
   "outputs": []
  },
  {
   "cell_type": "markdown",
   "id": "sjpyh3z0s2",
   "source": "---\n\n## 정답 확인\n\n모든 문제를 풀었다면, 아래 셀의 주석을 해제하여 정답을 확인할 수 있습니다.",
   "metadata": {}
  },
  {
   "cell_type": "markdown",
   "id": "1qwhyb1hpue",
   "source": "### 문제 3: 나만의 간단한 그래프 실행하기\n\n**목표**: 위에서 배운 내용을 활용하여 나만의 질문으로 그래프를 실행해보세요.\n\n**힌트**:\n- `HumanMessage`로 질문 메시지 생성\n- `graph.invoke()`로 그래프 실행\n- 결과에서 마지막 메시지가 AI의 답변입니다.\n\n**추천 질문 예시**:\n- \"주식 투자 초보자를 위한 조언은?\"\n- \"ETF란 무엇인가요?\"\n- \"배당주 투자의 장단점은?\"",
   "metadata": {}
  },
  {
   "cell_type": "markdown",
   "id": "qprcfq1yogd",
   "source": "### 문제 2: StateGraph 노드 함수 만들기\n\n**목표**: 사용자 메시지를 받아서 LLM으로 답변을 생성하는 노드 함수를 작성하세요.\n\n**힌트**: \n- 함수는 `AgentState`를 입력받고 반환합니다.\n- `state['messages']`에서 메시지를 가져옵니다.\n- LLM으로 답변을 생성하고 `{'messages': [답변]}`을 반환합니다.",
   "metadata": {}
  },
  {
   "cell_type": "markdown",
   "id": "pfrefb1xh6k",
   "source": "### 문제 1: ChatOpenAI로 간단한 질문하기\n\n**목표**: LLM에게 \"주식 투자의 장점은 무엇인가요?\"라고 질문하고 답변을 받으세요.\n\n**힌트**: `llm.invoke()` 메서드를 사용하세요.",
   "metadata": {}
  },
  {
   "metadata": {},
   "cell_type": "code",
   "outputs": [],
   "execution_count": null,
   "source": "",
   "id": "1ae90b5e00e547c6"
  }
 ],
 "metadata": {
  "kernelspec": {
   "display_name": "Python 3",
   "language": "python",
   "name": "python3"
  },
  "language_info": {
   "codemirror_mode": {
    "name": "ipython",
    "version": 2
   },
   "file_extension": ".py",
   "mimetype": "text/x-python",
   "name": "python",
   "nbconvert_exporter": "python",
   "pygments_lexer": "ipython2",
   "version": "2.7.6"
  }
 },
 "nbformat": 4,
 "nbformat_minor": 5
}